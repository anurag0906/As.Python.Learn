{
 "cells": [
  {
   "cell_type": "markdown",
   "id": "b6b10cdd-dcf8-459c-ae74-51b423630db6",
   "metadata": {},
   "source": [
    "# Ordered Dictionary"
   ]
  },
  {
   "cell_type": "code",
   "execution_count": null,
   "id": "f5c649c6-b0ac-4cf1-a239-b99df10630c7",
   "metadata": {},
   "outputs": [],
   "source": [
    "d={}\n",
    "d['one']=1\n",
    "d['three']=3\n",
    "d['two']=2\n",
    "d   # insert order maintained"
   ]
  },
  {
   "cell_type": "code",
   "execution_count": null,
   "id": "e2bc2b22-840c-493a-8637-9bbb200ad10d",
   "metadata": {},
   "outputs": [],
   "source": [
    "from collections import OrderedDict as od1\n",
    "od1.__base__  # base class/type"
   ]
  },
  {
   "cell_type": "code",
   "execution_count": null,
   "id": "b9199fff-0a5d-4719-b606-f3ba4beadd5a",
   "metadata": {},
   "outputs": [],
   "source": [
    "from collections import OrderedDict\n",
    "od= OrderedDict()  # new instance of ordered dict\n",
    "od['a']=1\n",
    "od['b']=2\n",
    "od['c']=3\n",
    "print(od)\n",
    "od['b']=10\n",
    "print(od)"
   ]
  },
  {
   "cell_type": "code",
   "execution_count": null,
   "id": "21a7925a-6085-48ec-9dcd-f6dff420f50e",
   "metadata": {},
   "outputs": [],
   "source": [
    "od.move_to_end('b',True)  #move an element to end\n",
    "print(od)\n",
    "print(od.items())"
   ]
  },
  {
   "cell_type": "code",
   "execution_count": null,
   "id": "bb8d5f9d-d152-4e09-a630-386521c0314c",
   "metadata": {},
   "outputs": [],
   "source": [
    "help(OrderedDict)"
   ]
  },
  {
   "cell_type": "markdown",
   "id": "c33fd008-e3fe-4489-99ae-03a5f4f7edf4",
   "metadata": {},
   "source": [
    "# Comparision"
   ]
  },
  {
   "cell_type": "code",
   "execution_count": null,
   "id": "1c1b61bd-e4c4-4beb-9f3c-c090ff60015c",
   "metadata": {},
   "outputs": [],
   "source": [
    "#unordered simple disctionary\n",
    "d1={}\n",
    "d1['a']=1\n",
    "d1['b']=2\n",
    "\n",
    "\n",
    "d2={}\n",
    "d2['b']=2\n",
    "d2['a']=1\n",
    "\n",
    "d1==d2"
   ]
  },
  {
   "cell_type": "markdown",
   "id": "9e579e74-acd5-4142-9b16-4c24d72d3423",
   "metadata": {},
   "source": [
    "# ordered disc"
   ]
  },
  {
   "cell_type": "code",
   "execution_count": null,
   "id": "c1503de2-0196-476c-a121-0348839873e0",
   "metadata": {},
   "outputs": [],
   "source": [
    "#ordered disc\n",
    "od1= OrderedDict()\n",
    "od1['a']=1\n",
    "od1['b']=2\n",
    "\n",
    "\n",
    "od2= OrderedDict()\n",
    "od2['b']=2\n",
    "od2['a']=1\n",
    "\n",
    "od1==od2  #order not matching"
   ]
  },
  {
   "cell_type": "code",
   "execution_count": null,
   "id": "e986feb0-2d91-4c87-bb1a-b7ab9e588ad4",
   "metadata": {},
   "outputs": [],
   "source": [
    "od2.move_to_end('b',True)  #order matching\n",
    "od1==od2"
   ]
  },
  {
   "cell_type": "markdown",
   "id": "7e52513b-eb8e-4f51-96d5-29cb6fa8106b",
   "metadata": {},
   "source": [
    "# Create a dict having letters as key and frequency of the letters as value (the letters are coming from a string)"
   ]
  },
  {
   "cell_type": "code",
   "execution_count": null,
   "id": "eef44e01-be13-49be-ac72-5cbbc34f3162",
   "metadata": {},
   "outputs": [],
   "source": [
    "s1=\"helloWorld\"\n",
    "dt= {}\n",
    "for ch in s1:\n",
    "    dt[ch]= dt.get(ch,0)+1 #default value specified every time element doesnot exist\n",
    "    \n",
    "print(dt)"
   ]
  },
  {
   "cell_type": "markdown",
   "id": "5b014434-9094-47e4-a84f-7da3f810779b",
   "metadata": {},
   "source": [
    "# Default Dict"
   ]
  },
  {
   "cell_type": "code",
   "execution_count": null,
   "id": "9cadb026-e7b4-4f27-8076-f38b1d19b4d6",
   "metadata": {},
   "outputs": [],
   "source": [
    "from collections import defaultdict\n",
    "dt2 = defaultdict(int) #set default at the begining itself\n",
    "\n",
    "for ch in s1:\n",
    "    dt2[ch]= dt2[ch] + 1\n",
    "\n",
    "print(dt2)"
   ]
  },
  {
   "cell_type": "markdown",
   "id": "c4728efc-49d5-482a-945d-4bfa06af4370",
   "metadata": {},
   "source": [
    "# Assignment- read from a file, where each line is a fruit name  followed by a count\n",
    "-apple 5\n",
    "-banana 5\n",
    "-cherry 4\n",
    "- apple 4\n",
    "- pear 10\n",
    "- banana 3\n",
    "\n",
    "output- {'apple':[2,4], 'banana' :[5,3]...}"
   ]
  },
  {
   "cell_type": "code",
   "execution_count": null,
   "id": "1695540c-1411-4ec8-9df2-7a7c1007e6ba",
   "metadata": {},
   "outputs": [],
   "source": [
    "fruits= defaultdict(list)\n",
    "\n",
    "with open('fruits.txt') as furit_file :\n",
    "    line= furit_file.readline()\n",
    "    print(line)\n",
    "    name,count= line.split()\n",
    "    fruits[name].append(count)\n",
    "  \n",
    "print(fruits)"
   ]
  },
  {
   "cell_type": "markdown",
   "id": "d97bd1b5-9c1d-430d-82d6-bca435b3cbef",
   "metadata": {},
   "source": [
    "# readonly property in a class"
   ]
  },
  {
   "cell_type": "code",
   "execution_count": null,
   "id": "eebfda6e-85c3-41ed-b3de-e5c1104cc79b",
   "metadata": {},
   "outputs": [],
   "source": [
    "class Demo:\n",
    "    def __init__(self,para1):\n",
    "        self.__x1=para1  # when we do __ it becomes private\n",
    "        \n",
    "    @property                # decorator\n",
    "    def myproperty1(self):\n",
    "        return self.__x1\n",
    "\n",
    "    @myproperty1.setter      # settter\n",
    "    def myproperty1(self, value):\n",
    "        self.__x1= value\n",
    "    \n",
    "    def mymethod1(self):     #simple method\n",
    "        return self.__x1\n",
    "\n",
    "d=Demo(20)\n",
    "\n",
    "print(d.myproperty1) #property\n",
    "print(d.mymethod1()) #method\n",
    "d.myproperty1=30\n",
    "print(d.myproperty1) "
   ]
  },
  {
   "cell_type": "code",
   "execution_count": null,
   "id": "a90e0b21-8480-443f-a73d-8b6f12aa7087",
   "metadata": {},
   "outputs": [],
   "source": [
    "class Point:\n",
    "    def __init__(self, x,y):\n",
    "        self.__x1=x\n",
    "        self.__y1=y\n",
    "        \n",
    "    def getXValue(self):\n",
    "        return self.__x1\n",
    "    \n",
    "    def getYValue(self):\n",
    "        return self.__y1\n",
    "\n",
    "\n",
    "\n",
    "p= Point(10,20)\n",
    "print(p.getXValue())\n",
    "print(p.getYValue())"
   ]
  },
  {
   "cell_type": "markdown",
   "id": "6768dd3e-53ff-4527-8b1b-4c29af50fb27",
   "metadata": {},
   "source": [
    "# Named Tuple"
   ]
  },
  {
   "cell_type": "code",
   "execution_count": 6,
   "id": "91336343-9caa-4bdb-b486-38572148dc71",
   "metadata": {},
   "outputs": [
    {
     "name": "stdout",
     "output_type": "stream",
     "text": [
      "<class '__main__.myClass'>\n",
      "10\n",
      "20\n"
     ]
    }
   ],
   "source": [
    "from collections import namedtuple\n",
    "p1 = namedtuple('myClass',['myprop1','myprop2'])\n",
    "\n",
    "p2=p1(10,20)\n",
    "\n",
    "print(type(p2))\n",
    "print(p2.myprop1)\n",
    "print(p2.myprop2)"
   ]
  },
  {
   "cell_type": "markdown",
   "id": "50a5cfb1-fb3e-47cc-b03a-b39cc30d70ac",
   "metadata": {},
   "source": [
    "# Tuple as runtime class. Tuples are immutable"
   ]
  },
  {
   "cell_type": "code",
   "execution_count": 9,
   "id": "eb01cc03-8417-4f9d-9831-1e86fbb8d31c",
   "metadata": {},
   "outputs": [
    {
     "name": "stdout",
     "output_type": "stream",
     "text": [
      "Employee(name='anurag', age=22, phone=123456789)\n",
      "Employee(name='john', age=44, phone=987654)\n"
     ]
    }
   ],
   "source": [
    "emp= namedtuple('Employee',['name','age','phone'])\n",
    "e1=emp('anurag',22,123456789)\n",
    "e2=emp('john',44,987654)\n",
    "\n",
    "print(e1)\n",
    "print(e2)"
   ]
  },
  {
   "cell_type": "code",
   "execution_count": null,
   "id": "5dae8088-e7d5-411a-b7f3-71273283c672",
   "metadata": {},
   "outputs": [],
   "source": []
  }
 ],
 "metadata": {
  "kernelspec": {
   "display_name": "Python 3 (ipykernel)",
   "language": "python",
   "name": "python3"
  },
  "language_info": {
   "codemirror_mode": {
    "name": "ipython",
    "version": 3
   },
   "file_extension": ".py",
   "mimetype": "text/x-python",
   "name": "python",
   "nbconvert_exporter": "python",
   "pygments_lexer": "ipython3",
   "version": "3.12.1"
  }
 },
 "nbformat": 4,
 "nbformat_minor": 5
}
