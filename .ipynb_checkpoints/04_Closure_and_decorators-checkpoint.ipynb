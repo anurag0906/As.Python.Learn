{
 "cells": [
  {
   "cell_type": "markdown",
   "id": "ee6e29e9-15b5-4748-a977-c54dc270468e",
   "metadata": {},
   "source": [
    "# python scoping rules\n",
    "- LEGB (Local--> enclosed-->global--Built-in)\n",
    "- Local: inside a func\n",
    "- Enclosed: outer function\n",
    "- Global declaration at uppermost layer (within a script)\n",
    "- Built-in: declaration which are part of a core library"
   ]
  },
  {
   "cell_type": "code",
   "execution_count": null,
   "id": "2c8a8e4e-c4a8-4709-a35f-26fc5dfccf01",
   "metadata": {},
   "outputs": [],
   "source": [
    "a=10 #global\n",
    "def outer_func():\n",
    "    b=20  #enclosed\n",
    "    def inner_func():\n",
    "      #  a=1   #local\n",
    "        b=2   #local\n",
    "        c=30\n",
    "        print('a: ',a)\n",
    "        print('b: ',b)\n",
    "        print('c: ',c)\n",
    "        print(__name__)    #built-in\n",
    "    inner_func()\n",
    "\n",
    "outer_func()"
   ]
  },
  {
   "cell_type": "markdown",
   "id": "344f6718-d19b-4cbf-ab1f-974b9c9e633f",
   "metadata": {},
   "source": [
    "# Closure\n",
    "a func which remembers value(s) from the enclosing scope, even when the flow is no longer in the enclosed scope"
   ]
  },
  {
   "cell_type": "code",
   "execution_count": null,
   "id": "de7e4f7d-273e-4a1c-a562-9162960cc341",
   "metadata": {},
   "outputs": [],
   "source": [
    "def outer_func(x):\n",
    "    print(f'value of x : {x}')\n",
    "\n",
    "    def inner_func(y):\n",
    "        print(f' val of Y: {y}')\n",
    "        return x + y\n",
    "        \n",
    "    return inner_func     # Return a closure.\n",
    "\n",
    "\n",
    "mypointer = outer_func(10)\n",
    "print(f'id(mypointer)- {id(mypointer)}')\n",
    "mypointer(20)\n",
    "\n",
    "print(f'id(mypointer)- {id(mypointer)}')"
   ]
  },
  {
   "cell_type": "markdown",
   "id": "7d4d1706-72fd-454b-8e07-f1ee7f1a46c0",
   "metadata": {},
   "source": [
    "# Decorator\n",
    "- wrapper function\n",
    "- build on top of Closure concept\n",
    "- outer func accepts a func as para\n",
    "- Inner func accepts same para as that of target func\n",
    "- Purpose of decorator is to modify a func behaviour without modifying the func code\n",
    "- Decorator is used to add pre or post or both action to a func"
   ]
  },
  {
   "cell_type": "markdown",
   "id": "c5353b7b-e789-4a55-bbe1-3712de50d455",
   "metadata": {},
   "source": [
    "# Closure Vs Decorator\n",
    "- Decorator outer func should accept a func as para (no such req. in Closure)\n",
    "- Inner func accepts same para as that of target/outer func (no such req. in Closure)\n",
    "- All Decorators are Closures but vice-vers may not be true"
   ]
  },
  {
   "cell_type": "code",
   "execution_count": 2,
   "id": "b6d58d59-9843-4854-a0ca-b70d8c7b5a28",
   "metadata": {},
   "outputs": [],
   "source": [
    "def isPositive(target):\n",
    "    def inner_func(num):\n",
    "        if num>=0:\n",
    "            result= target(num)\n",
    "            return result\n",
    "        else:\n",
    "            print('Negative number')\n",
    "    return inner_func\n"
   ]
  },
  {
   "cell_type": "code",
   "execution_count": 3,
   "id": "6037b195-3d21-4ebc-9261-e67f42d0335a",
   "metadata": {},
   "outputs": [
    {
     "name": "stdout",
     "output_type": "stream",
     "text": [
      " you entered-10\n",
      "Negative number\n"
     ]
    }
   ],
   "source": [
    "def demo(num):\n",
    "    print(f' you entered-{num}')\n",
    "\n",
    "check= isPositive(demo)   #calling outer func\n",
    "check(10)   #calling inner func\n",
    "check(-10)"
   ]
  },
  {
   "cell_type": "markdown",
   "id": "5eb30bcb-cbc0-4559-a678-266072df95ee",
   "metadata": {},
   "source": [
    "### Above func can be actioved via decorator"
   ]
  },
  {
   "cell_type": "code",
   "execution_count": 5,
   "id": "506077a2-eec4-4db3-971a-e942e2545a09",
   "metadata": {},
   "outputs": [],
   "source": [
    "@isPositive\n",
    "def demo123(num):\n",
    "    print(f' you entered-{num}')"
   ]
  },
  {
   "cell_type": "code",
   "execution_count": 6,
   "id": "ad12311c-837b-4834-956f-6978ae7380c2",
   "metadata": {},
   "outputs": [
    {
     "name": "stdout",
     "output_type": "stream",
     "text": [
      "Negative number\n"
     ]
    }
   ],
   "source": [
    "demo123(-12)"
   ]
  },
  {
   "cell_type": "code",
   "execution_count": null,
   "id": "d780d449-c4a2-4081-b1da-0b47565c9f77",
   "metadata": {},
   "outputs": [],
   "source": []
  }
 ],
 "metadata": {
  "kernelspec": {
   "display_name": "Python 3 (ipykernel)",
   "language": "python",
   "name": "python3"
  },
  "language_info": {
   "codemirror_mode": {
    "name": "ipython",
    "version": 3
   },
   "file_extension": ".py",
   "mimetype": "text/x-python",
   "name": "python",
   "nbconvert_exporter": "python",
   "pygments_lexer": "ipython3",
   "version": "3.12.1"
  }
 },
 "nbformat": 4,
 "nbformat_minor": 5
}
