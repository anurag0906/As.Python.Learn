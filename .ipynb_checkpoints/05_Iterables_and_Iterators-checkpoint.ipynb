{
 "cells": [
  {
   "cell_type": "markdown",
   "id": "e42e98cf-9e11-4f52-a6a7-e1fcea4b272e",
   "metadata": {},
   "source": [
    "# Container\n",
    "- data structure which holds elements\n",
    "- Supports membership tests (it can be asked whether it contains a certain element)\n",
    "- Membership operators are 'in' and 'not in'\n",
    "- eg- string, list, set, tuple, dict\n",
    "\n",
    "# container examples"
   ]
  },
  {
   "cell_type": "code",
   "execution_count": null,
   "id": "038ecac5-bcb5-4b95-bf54-f545db3a8e37",
   "metadata": {},
   "outputs": [],
   "source": [
    "'p' in 'python'"
   ]
  },
  {
   "cell_type": "code",
   "execution_count": null,
   "id": "ea7295fc-f9ce-4aac-b732-cc86f51d84d8",
   "metadata": {},
   "outputs": [],
   "source": [
    "5 in [1,2,3,4,5]"
   ]
  },
  {
   "cell_type": "code",
   "execution_count": null,
   "id": "517d672b-b826-4617-97ba-54a5173a2a38",
   "metadata": {},
   "outputs": [],
   "source": [
    "'Like' in ('I', 'Like', 'Python')"
   ]
  },
  {
   "cell_type": "code",
   "execution_count": null,
   "id": "bf7476d5-330e-4e4a-82c4-b64eaa1eed37",
   "metadata": {},
   "outputs": [],
   "source": [
    "'Name' in {'Name':'anurag', 'Age':23, 'Phone':123456}"
   ]
  },
  {
   "cell_type": "code",
   "execution_count": null,
   "id": "e018191e-a506-4674-90ff-281ee1569abc",
   "metadata": {},
   "outputs": [],
   "source": [
    "'anurag' in {'Name':'anurag', 'Age':23, 'Phone':123456}.values()"
   ]
  },
  {
   "cell_type": "markdown",
   "id": "75c509bd-adc0-4798-a994-39afd588dab2",
   "metadata": {},
   "source": [
    "# Iterables\n",
    "- Any object (not necessarly a data structure) that can return an iterator\n",
    "- __iter__() method returns the iterator object\n",
    "- Any object that has __iter__() method is an iterable\n",
    "- files, sockets are iterables similar to string, list, set, tuple, dict"
   ]
  },
  {
   "cell_type": "code",
   "execution_count": 2,
   "id": "a1abc0f0-8b19-4264-9c3f-1ee44062f784",
   "metadata": {},
   "outputs": [
    {
     "name": "stdout",
     "output_type": "stream",
     "text": [
      "<class 'list_iterator'>\n",
      "type of iter(list1)---> <class 'list_iterator'>\n"
     ]
    }
   ],
   "source": [
    "list1=[1,3,2,4]\n",
    "getIter= list1.__iter__()\n",
    "print( type(getIter))\n",
    "\n",
    "getIter2= iter(list1)\n",
    "print('type of iter(list1)--->', type(getIter2))\n"
   ]
  },
  {
   "cell_type": "markdown",
   "id": "1a49cba0-9572-4f1e-b837-69e4c7e8cf19",
   "metadata": {},
   "source": [
    "# Iterator\n",
    "- a stateful object that produces the next value when call __next__() method of next(iterator)\n",
    "- Any object that has __next__() methos is an iterator\n",
    "- Iterator can be treated as value factory"
   ]
  },
  {
   "cell_type": "code",
   "execution_count": 10,
   "id": "7c6c7762-fb6b-4f1f-9626-bd0e5d2b86ef",
   "metadata": {},
   "outputs": [],
   "source": [
    "#example\n",
    "list1=[1,3,2,4]\n",
    "getIter= list1.__iter__()"
   ]
  },
  {
   "cell_type": "code",
   "execution_count": 9,
   "id": "39a9df62-cf93-4d25-ae02-c579ef7fd344",
   "metadata": {},
   "outputs": [
    {
     "ename": "StopIteration",
     "evalue": "",
     "output_type": "error",
     "traceback": [
      "\u001b[1;31m---------------------------------------------------------------------------\u001b[0m",
      "\u001b[1;31mStopIteration\u001b[0m                             Traceback (most recent call last)",
      "Cell \u001b[1;32mIn[9], line 1\u001b[0m\n\u001b[1;32m----> 1\u001b[0m \u001b[43mgetIter\u001b[49m\u001b[38;5;241;43m.\u001b[39;49m\u001b[38;5;21;43m__next__\u001b[39;49m\u001b[43m(\u001b[49m\u001b[43m)\u001b[49m  \u001b[38;5;66;03m#option 1\u001b[39;00m\n\u001b[0;32m      2\u001b[0m \u001b[38;5;28mnext\u001b[39m(getIter)   \u001b[38;5;66;03m# option 2\u001b[39;00m\n",
      "\u001b[1;31mStopIteration\u001b[0m: "
     ]
    }
   ],
   "source": [
    "getIter.__next__()  #option 1\n",
    "next(getIter)   # option 2"
   ]
  },
  {
   "cell_type": "markdown",
   "id": "3ebe43f2-55fd-483d-8eef-0a7fed3c1e0e",
   "metadata": {},
   "source": [
    "# my while loop"
   ]
  },
  {
   "cell_type": "code",
   "execution_count": 12,
   "id": "f692d305-4c77-491c-93d1-ccd01b390a40",
   "metadata": {},
   "outputs": [
    {
     "name": "stdout",
     "output_type": "stream",
     "text": [
      "1\n",
      "3\n",
      "2\n",
      "4\n"
     ]
    }
   ],
   "source": [
    "list1=[1,3,2,4]\n",
    "iter1 = list1.__iter__()\n",
    "try:\n",
    "    while True:\n",
    "        print(iter1.__next__())\n",
    "except StopIteration:\n",
    "    pass"
   ]
  },
  {
   "cell_type": "markdown",
   "id": "98ea4fe6-5141-4017-bc53-d6d7074fe50f",
   "metadata": {},
   "source": [
    "# Fibonachi series"
   ]
  },
  {
   "cell_type": "code",
   "execution_count": 20,
   "id": "6a6b5c2f-56c7-46fc-9154-ec1b2c9ad8bc",
   "metadata": {},
   "outputs": [
    {
     "name": "stdout",
     "output_type": "stream",
     "text": [
      "0   1   1   2   3   5   8   13   21   34   55   89   144   233   377   610   987   "
     ]
    }
   ],
   "source": [
    "class Fibno:\n",
    "    def __init__(self, max):\n",
    "        self.max = max\n",
    "        self.prev=0\n",
    "        self.next=1\n",
    "        \n",
    "    def __iter__(self):    # the object is its own iterator\n",
    "        return self\n",
    "\n",
    "    def __next__(self):  # return next val, stop on exception\n",
    "        current = self.prev\n",
    "        self.prev = self.prev + self.next\n",
    "        self.next = current\n",
    "        if current > self.max:\n",
    "            raise StopIteration\n",
    "\n",
    "        return current\n",
    "\n",
    "\n",
    "f = Fibno(1000)\n",
    "for c in f:\n",
    "    print (c, end='   ')\n",
    "\n"
   ]
  },
  {
   "cell_type": "code",
   "execution_count": null,
   "id": "105f3527-3a0a-40fc-8d0d-5e1178a38705",
   "metadata": {},
   "outputs": [],
   "source": []
  }
 ],
 "metadata": {
  "kernelspec": {
   "display_name": "Python 3 (ipykernel)",
   "language": "python",
   "name": "python3"
  },
  "language_info": {
   "codemirror_mode": {
    "name": "ipython",
    "version": 3
   },
   "file_extension": ".py",
   "mimetype": "text/x-python",
   "name": "python",
   "nbconvert_exporter": "python",
   "pygments_lexer": "ipython3",
   "version": "3.12.1"
  }
 },
 "nbformat": 4,
 "nbformat_minor": 5
}
