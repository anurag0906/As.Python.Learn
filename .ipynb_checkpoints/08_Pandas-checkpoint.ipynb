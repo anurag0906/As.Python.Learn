{
 "cells": [
  {
   "cell_type": "markdown",
   "id": "02030f09-9d65-4f2a-8925-4700c56aa4f4",
   "metadata": {},
   "source": [
    "# PANDAS- python data analysis\n",
    "- similar to excel"
   ]
  },
  {
   "cell_type": "code",
   "execution_count": null,
   "id": "dd8bbdb5-dbfc-4a15-b08e-4c12cb474e6f",
   "metadata": {},
   "outputs": [],
   "source": [
    "pip install pandas"
   ]
  },
  {
   "cell_type": "code",
   "execution_count": null,
   "id": "8b3e479d-f8b9-40ae-95bf-fe7034be80f6",
   "metadata": {},
   "outputs": [],
   "source": [
    "pip list"
   ]
  },
  {
   "cell_type": "code",
   "execution_count": 1,
   "id": "cfd982db-5582-4472-a206-43550c23746f",
   "metadata": {},
   "outputs": [
    {
     "name": "stderr",
     "output_type": "stream",
     "text": [
      "C:\\Users\\anurag.shagun\\AppData\\Local\\Temp\\ipykernel_35832\\1662815981.py:2: DeprecationWarning: \n",
      "Pyarrow will become a required dependency of pandas in the next major release of pandas (pandas 3.0),\n",
      "(to allow more performant data types, such as the Arrow string type, and better interoperability with other libraries)\n",
      "but was not found to be installed on your system.\n",
      "If this would cause problems for you,\n",
      "please provide us feedback at https://github.com/pandas-dev/pandas/issues/54466\n",
      "        \n",
      "  import pandas as pd\n"
     ]
    }
   ],
   "source": [
    "import numpy as np\n",
    "import pandas as pd"
   ]
  },
  {
   "cell_type": "code",
   "execution_count": 8,
   "id": "3f2726b4-3511-4ae3-8642-088598d4dd6c",
   "metadata": {},
   "outputs": [],
   "source": [
    "mylabels= ['a','b','c','d']\n",
    "my_list =[10,20,30,40]\n",
    "arr= np.array(my_list)\n",
    "dict1= {'a':10,'b':20,'c':30}"
   ]
  },
  {
   "cell_type": "markdown",
   "id": "648427ca-8fc8-4abf-8304-687c1171b6b6",
   "metadata": {},
   "source": [
    "# Series- one-dimensional labeled array holding data of any type"
   ]
  },
  {
   "cell_type": "code",
   "execution_count": 9,
   "id": "15bde5f8-881a-498a-ae54-864439422090",
   "metadata": {},
   "outputs": [
    {
     "data": {
      "text/plain": [
       "0    10\n",
       "1    20\n",
       "2    30\n",
       "3    40\n",
       "dtype: int64"
      ]
     },
     "execution_count": 9,
     "metadata": {},
     "output_type": "execute_result"
    }
   ],
   "source": [
    "series = pd.Series(my_list)  #\n",
    "series"
   ]
  },
  {
   "cell_type": "code",
   "execution_count": 11,
   "id": "8b897747-f0ad-48ec-bc7d-4e69fa06d7f8",
   "metadata": {},
   "outputs": [
    {
     "data": {
      "text/plain": [
       "a    10\n",
       "b    20\n",
       "c    30\n",
       "d    40\n",
       "dtype: int64"
      ]
     },
     "execution_count": 11,
     "metadata": {},
     "output_type": "execute_result"
    }
   ],
   "source": [
    "series= pd.Series(data=my_list, index =mylabels )\n",
    "series"
   ]
  },
  {
   "cell_type": "code",
   "execution_count": 13,
   "id": "4f7b4065-f79f-4d18-a1e0-b76a54ed2eae",
   "metadata": {},
   "outputs": [
    {
     "data": {
      "text/plain": [
       "USA      330\n",
       "UK        67\n",
       "Canda     38\n",
       "Japan    125\n",
       "dtype: int64"
      ]
     },
     "execution_count": 13,
     "metadata": {},
     "output_type": "execute_result"
    }
   ],
   "source": [
    "sr= pd.Series(index= ['USA', 'UK', 'Canda', 'Japan'], data=[330,67,38,125])\n",
    "sr"
   ]
  },
  {
   "cell_type": "code",
   "execution_count": 14,
   "id": "e0fbae1a-c66c-47cb-9762-40f26fce0d30",
   "metadata": {},
   "outputs": [
    {
     "data": {
      "text/plain": [
       "330"
      ]
     },
     "execution_count": 14,
     "metadata": {},
     "output_type": "execute_result"
    }
   ],
   "source": [
    "sr['USA']"
   ]
  },
  {
   "cell_type": "markdown",
   "id": "051e1a3e-d62f-4426-9844-a77bae503362",
   "metadata": {},
   "source": [
    "# add a header"
   ]
  },
  {
   "cell_type": "code",
   "execution_count": 16,
   "id": "84707df1-d441-442d-a486-0745126d1ab7",
   "metadata": {},
   "outputs": [
    {
     "data": {
      "text/plain": [
       "0    1.0\n",
       "1    2.0\n",
       "2    3.4\n",
       "3    4.8\n",
       "4    5.0\n",
       "5    6.0\n",
       "6    8.2\n",
       "dtype: float64"
      ]
     },
     "execution_count": 16,
     "metadata": {},
     "output_type": "execute_result"
    }
   ],
   "source": [
    "sr2=pd.Series([1,2,3.4,4.8,5,6,8.2])   #panda series give a array with an index/label\n",
    "sr2"
   ]
  },
  {
   "cell_type": "markdown",
   "id": "8f1dd440-3c35-4674-b0c3-5dcd7abadedc",
   "metadata": {},
   "source": [
    "# Data Frame\n",
    "- bunch of series, sharing same index (excel sheet)\n",
    "- Series in dataframe can have col names"
   ]
  },
  {
   "cell_type": "code",
   "execution_count": 24,
   "id": "91badcf2-f0ab-4662-9c27-4ef342ff11a9",
   "metadata": {},
   "outputs": [
    {
     "data": {
      "text/html": [
       "<div>\n",
       "<style scoped>\n",
       "    .dataframe tbody tr th:only-of-type {\n",
       "        vertical-align: middle;\n",
       "    }\n",
       "\n",
       "    .dataframe tbody tr th {\n",
       "        vertical-align: top;\n",
       "    }\n",
       "\n",
       "    .dataframe thead th {\n",
       "        text-align: right;\n",
       "    }\n",
       "</style>\n",
       "<table border=\"1\" class=\"dataframe\">\n",
       "  <thead>\n",
       "    <tr style=\"text-align: right;\">\n",
       "      <th></th>\n",
       "      <th>col1</th>\n",
       "      <th>col2</th>\n",
       "      <th>col3</th>\n",
       "      <th>col4</th>\n",
       "    </tr>\n",
       "  </thead>\n",
       "  <tbody>\n",
       "    <tr>\n",
       "      <th>A</th>\n",
       "      <td>0.407302</td>\n",
       "      <td>-0.918306</td>\n",
       "      <td>1.119649</td>\n",
       "      <td>-0.887230</td>\n",
       "    </tr>\n",
       "    <tr>\n",
       "      <th>B</th>\n",
       "      <td>-0.180885</td>\n",
       "      <td>-1.571091</td>\n",
       "      <td>2.087179</td>\n",
       "      <td>0.500357</td>\n",
       "    </tr>\n",
       "    <tr>\n",
       "      <th>C</th>\n",
       "      <td>0.814107</td>\n",
       "      <td>-0.857738</td>\n",
       "      <td>-0.115563</td>\n",
       "      <td>0.449208</td>\n",
       "    </tr>\n",
       "    <tr>\n",
       "      <th>D</th>\n",
       "      <td>0.557065</td>\n",
       "      <td>0.394140</td>\n",
       "      <td>-0.727495</td>\n",
       "      <td>0.838015</td>\n",
       "    </tr>\n",
       "    <tr>\n",
       "      <th>E</th>\n",
       "      <td>0.827729</td>\n",
       "      <td>1.458285</td>\n",
       "      <td>-1.959837</td>\n",
       "      <td>-1.298077</td>\n",
       "    </tr>\n",
       "  </tbody>\n",
       "</table>\n",
       "</div>"
      ],
      "text/plain": [
       "       col1      col2      col3      col4\n",
       "A  0.407302 -0.918306  1.119649 -0.887230\n",
       "B -0.180885 -1.571091  2.087179  0.500357\n",
       "C  0.814107 -0.857738 -0.115563  0.449208\n",
       "D  0.557065  0.394140 -0.727495  0.838015\n",
       "E  0.827729  1.458285 -1.959837 -1.298077"
      ]
     },
     "execution_count": 24,
     "metadata": {},
     "output_type": "execute_result"
    }
   ],
   "source": [
    "df= pd.DataFrame(np.random.randn(5,4), index =['A','B','C','D', 'E'], columns=['col1','col2','col3','col4'])\n",
    "df"
   ]
  },
  {
   "cell_type": "code",
   "execution_count": 25,
   "id": "d0310b83-57d1-4d75-a37d-fc2a6146e2b9",
   "metadata": {},
   "outputs": [
    {
     "data": {
      "text/plain": [
       "A   -0.918306\n",
       "B   -1.571091\n",
       "C   -0.857738\n",
       "D    0.394140\n",
       "E    1.458285\n",
       "Name: col2, dtype: float64"
      ]
     },
     "execution_count": 25,
     "metadata": {},
     "output_type": "execute_result"
    }
   ],
   "source": [
    "df['col2']"
   ]
  },
  {
   "cell_type": "code",
   "execution_count": 26,
   "id": "e94bcd85-8a50-40bb-bbfa-c89ce8d1b00a",
   "metadata": {},
   "outputs": [
    {
     "data": {
      "text/plain": [
       "A   -0.918306\n",
       "B   -1.571091\n",
       "C   -0.857738\n",
       "D    0.394140\n",
       "E    1.458285\n",
       "Name: col2, dtype: float64"
      ]
     },
     "execution_count": 26,
     "metadata": {},
     "output_type": "execute_result"
    }
   ],
   "source": [
    "df.col2           #SQL style"
   ]
  },
  {
   "cell_type": "code",
   "execution_count": 29,
   "id": "27a1f204-5ce5-4589-9701-30f3c52ee543",
   "metadata": {},
   "outputs": [
    {
     "name": "stdout",
     "output_type": "stream",
     "text": [
      "<class 'pandas.core.series.Series'>\n"
     ]
    },
    {
     "data": {
      "text/plain": [
       "A    1.119649\n",
       "B    2.087179\n",
       "C   -0.115563\n",
       "D   -0.727495\n",
       "E   -1.959837\n",
       "Name: col3, dtype: float64"
      ]
     },
     "execution_count": 29,
     "metadata": {},
     "output_type": "execute_result"
    }
   ],
   "source": [
    "col_name='col3'   #parametrized\n",
    "print(type(df[col_name]))\n",
    "df[col_name]"
   ]
  },
  {
   "cell_type": "code",
   "execution_count": 46,
   "id": "f70af6c7-8058-4a75-b80e-7f2fa3afc6ab",
   "metadata": {},
   "outputs": [
    {
     "data": {
      "text/html": [
       "<div>\n",
       "<style scoped>\n",
       "    .dataframe tbody tr th:only-of-type {\n",
       "        vertical-align: middle;\n",
       "    }\n",
       "\n",
       "    .dataframe tbody tr th {\n",
       "        vertical-align: top;\n",
       "    }\n",
       "\n",
       "    .dataframe thead th {\n",
       "        text-align: right;\n",
       "    }\n",
       "</style>\n",
       "<table border=\"1\" class=\"dataframe\">\n",
       "  <thead>\n",
       "    <tr style=\"text-align: right;\">\n",
       "      <th></th>\n",
       "      <th>col1</th>\n",
       "      <th>col2</th>\n",
       "      <th>col3</th>\n",
       "      <th>col4</th>\n",
       "      <th>newCol</th>\n",
       "    </tr>\n",
       "  </thead>\n",
       "  <tbody>\n",
       "    <tr>\n",
       "      <th>A</th>\n",
       "      <td>0.407302</td>\n",
       "      <td>-0.918306</td>\n",
       "      <td>1.119649</td>\n",
       "      <td>-0.887230</td>\n",
       "      <td>-0.511003</td>\n",
       "    </tr>\n",
       "    <tr>\n",
       "      <th>B</th>\n",
       "      <td>-0.180885</td>\n",
       "      <td>-1.571091</td>\n",
       "      <td>2.087179</td>\n",
       "      <td>0.500357</td>\n",
       "      <td>-1.751976</td>\n",
       "    </tr>\n",
       "    <tr>\n",
       "      <th>C</th>\n",
       "      <td>0.814107</td>\n",
       "      <td>-0.857738</td>\n",
       "      <td>-0.115563</td>\n",
       "      <td>0.449208</td>\n",
       "      <td>-0.043631</td>\n",
       "    </tr>\n",
       "    <tr>\n",
       "      <th>D</th>\n",
       "      <td>0.557065</td>\n",
       "      <td>0.394140</td>\n",
       "      <td>-0.727495</td>\n",
       "      <td>0.838015</td>\n",
       "      <td>0.951204</td>\n",
       "    </tr>\n",
       "    <tr>\n",
       "      <th>E</th>\n",
       "      <td>0.827729</td>\n",
       "      <td>1.458285</td>\n",
       "      <td>-1.959837</td>\n",
       "      <td>-1.298077</td>\n",
       "      <td>2.286014</td>\n",
       "    </tr>\n",
       "  </tbody>\n",
       "</table>\n",
       "</div>"
      ],
      "text/plain": [
       "       col1      col2      col3      col4    newCol\n",
       "A  0.407302 -0.918306  1.119649 -0.887230 -0.511003\n",
       "B -0.180885 -1.571091  2.087179  0.500357 -1.751976\n",
       "C  0.814107 -0.857738 -0.115563  0.449208 -0.043631\n",
       "D  0.557065  0.394140 -0.727495  0.838015  0.951204\n",
       "E  0.827729  1.458285 -1.959837 -1.298077  2.286014"
      ]
     },
     "execution_count": 46,
     "metadata": {},
     "output_type": "execute_result"
    }
   ],
   "source": [
    "df['newCol'] =df['col1'] + df['col2']    #calulated column\n",
    "df"
   ]
  },
  {
   "cell_type": "code",
   "execution_count": 32,
   "id": "b021fffd-4d97-4411-8bd8-6a71d1f69ff7",
   "metadata": {},
   "outputs": [
    {
     "data": {
      "text/plain": [
       "col1      0.407302\n",
       "col2     -0.918306\n",
       "col3      1.119649\n",
       "col4     -0.887230\n",
       "newCol   -0.511003\n",
       "Name: A, dtype: float64"
      ]
     },
     "execution_count": 32,
     "metadata": {},
     "output_type": "execute_result"
    }
   ],
   "source": [
    "df.loc['A']      #fetch a row"
   ]
  },
  {
   "cell_type": "code",
   "execution_count": 35,
   "id": "4871dd51-aaa4-407d-986c-84ac56f880c4",
   "metadata": {},
   "outputs": [
    {
     "data": {
      "text/plain": [
       "col1      0.814107\n",
       "col2     -0.857738\n",
       "col3     -0.115563\n",
       "col4      0.449208\n",
       "newCol   -0.043631\n",
       "Name: C, dtype: float64"
      ]
     },
     "execution_count": 35,
     "metadata": {},
     "output_type": "execute_result"
    }
   ],
   "source": [
    "df.iloc[2]      # fetch by row index"
   ]
  },
  {
   "cell_type": "code",
   "execution_count": 36,
   "id": "98a9ea8a-9a80-4d49-8bb4-15e515f9c9de",
   "metadata": {},
   "outputs": [
    {
     "data": {
      "text/plain": [
       "-0.85773765154129"
      ]
     },
     "execution_count": 36,
     "metadata": {},
     "output_type": "execute_result"
    }
   ],
   "source": [
    "df.loc['C']['col2']       #fetch by row and col"
   ]
  },
  {
   "cell_type": "code",
   "execution_count": 37,
   "id": "cba8f7c7-f5c0-48e3-8d2b-efd7898d8a8f",
   "metadata": {},
   "outputs": [
    {
     "data": {
      "text/plain": [
       "A    1.119649\n",
       "C   -0.115563\n",
       "Name: col3, dtype: float64"
      ]
     },
     "execution_count": 37,
     "metadata": {},
     "output_type": "execute_result"
    }
   ],
   "source": [
    "df.loc[['A','C']]['col3']"
   ]
  },
  {
   "cell_type": "markdown",
   "id": "dee5c57c-d7f1-4803-8542-cdbb668be775",
   "metadata": {},
   "source": [
    "# drop a col"
   ]
  },
  {
   "cell_type": "code",
   "execution_count": 38,
   "id": "3123391f-12c1-4e46-b4d6-8350b7af60b1",
   "metadata": {},
   "outputs": [
    {
     "data": {
      "text/html": [
       "<div>\n",
       "<style scoped>\n",
       "    .dataframe tbody tr th:only-of-type {\n",
       "        vertical-align: middle;\n",
       "    }\n",
       "\n",
       "    .dataframe tbody tr th {\n",
       "        vertical-align: top;\n",
       "    }\n",
       "\n",
       "    .dataframe thead th {\n",
       "        text-align: right;\n",
       "    }\n",
       "</style>\n",
       "<table border=\"1\" class=\"dataframe\">\n",
       "  <thead>\n",
       "    <tr style=\"text-align: right;\">\n",
       "      <th></th>\n",
       "      <th>col1</th>\n",
       "      <th>col2</th>\n",
       "      <th>col3</th>\n",
       "      <th>col4</th>\n",
       "      <th>newCol</th>\n",
       "    </tr>\n",
       "  </thead>\n",
       "  <tbody>\n",
       "    <tr>\n",
       "      <th>A</th>\n",
       "      <td>0.407302</td>\n",
       "      <td>-0.918306</td>\n",
       "      <td>1.119649</td>\n",
       "      <td>-0.887230</td>\n",
       "      <td>-0.511003</td>\n",
       "    </tr>\n",
       "    <tr>\n",
       "      <th>B</th>\n",
       "      <td>-0.180885</td>\n",
       "      <td>-1.571091</td>\n",
       "      <td>2.087179</td>\n",
       "      <td>0.500357</td>\n",
       "      <td>-1.751976</td>\n",
       "    </tr>\n",
       "    <tr>\n",
       "      <th>C</th>\n",
       "      <td>0.814107</td>\n",
       "      <td>-0.857738</td>\n",
       "      <td>-0.115563</td>\n",
       "      <td>0.449208</td>\n",
       "      <td>-0.043631</td>\n",
       "    </tr>\n",
       "    <tr>\n",
       "      <th>D</th>\n",
       "      <td>0.557065</td>\n",
       "      <td>0.394140</td>\n",
       "      <td>-0.727495</td>\n",
       "      <td>0.838015</td>\n",
       "      <td>0.951204</td>\n",
       "    </tr>\n",
       "    <tr>\n",
       "      <th>E</th>\n",
       "      <td>0.827729</td>\n",
       "      <td>1.458285</td>\n",
       "      <td>-1.959837</td>\n",
       "      <td>-1.298077</td>\n",
       "      <td>2.286014</td>\n",
       "    </tr>\n",
       "  </tbody>\n",
       "</table>\n",
       "</div>"
      ],
      "text/plain": [
       "       col1      col2      col3      col4    newCol\n",
       "A  0.407302 -0.918306  1.119649 -0.887230 -0.511003\n",
       "B -0.180885 -1.571091  2.087179  0.500357 -1.751976\n",
       "C  0.814107 -0.857738 -0.115563  0.449208 -0.043631\n",
       "D  0.557065  0.394140 -0.727495  0.838015  0.951204\n",
       "E  0.827729  1.458285 -1.959837 -1.298077  2.286014"
      ]
     },
     "execution_count": 38,
     "metadata": {},
     "output_type": "execute_result"
    }
   ],
   "source": [
    "df"
   ]
  },
  {
   "cell_type": "code",
   "execution_count": 41,
   "id": "db1556f7-8788-4f3a-ab33-0f05e997b380",
   "metadata": {},
   "outputs": [
    {
     "data": {
      "text/html": [
       "<div>\n",
       "<style scoped>\n",
       "    .dataframe tbody tr th:only-of-type {\n",
       "        vertical-align: middle;\n",
       "    }\n",
       "\n",
       "    .dataframe tbody tr th {\n",
       "        vertical-align: top;\n",
       "    }\n",
       "\n",
       "    .dataframe thead th {\n",
       "        text-align: right;\n",
       "    }\n",
       "</style>\n",
       "<table border=\"1\" class=\"dataframe\">\n",
       "  <thead>\n",
       "    <tr style=\"text-align: right;\">\n",
       "      <th></th>\n",
       "      <th>col1</th>\n",
       "      <th>col2</th>\n",
       "      <th>col3</th>\n",
       "      <th>col4</th>\n",
       "    </tr>\n",
       "  </thead>\n",
       "  <tbody>\n",
       "    <tr>\n",
       "      <th>A</th>\n",
       "      <td>0.407302</td>\n",
       "      <td>-0.918306</td>\n",
       "      <td>1.119649</td>\n",
       "      <td>-0.887230</td>\n",
       "    </tr>\n",
       "    <tr>\n",
       "      <th>B</th>\n",
       "      <td>-0.180885</td>\n",
       "      <td>-1.571091</td>\n",
       "      <td>2.087179</td>\n",
       "      <td>0.500357</td>\n",
       "    </tr>\n",
       "    <tr>\n",
       "      <th>C</th>\n",
       "      <td>0.814107</td>\n",
       "      <td>-0.857738</td>\n",
       "      <td>-0.115563</td>\n",
       "      <td>0.449208</td>\n",
       "    </tr>\n",
       "    <tr>\n",
       "      <th>D</th>\n",
       "      <td>0.557065</td>\n",
       "      <td>0.394140</td>\n",
       "      <td>-0.727495</td>\n",
       "      <td>0.838015</td>\n",
       "    </tr>\n",
       "    <tr>\n",
       "      <th>E</th>\n",
       "      <td>0.827729</td>\n",
       "      <td>1.458285</td>\n",
       "      <td>-1.959837</td>\n",
       "      <td>-1.298077</td>\n",
       "    </tr>\n",
       "  </tbody>\n",
       "</table>\n",
       "</div>"
      ],
      "text/plain": [
       "       col1      col2      col3      col4\n",
       "A  0.407302 -0.918306  1.119649 -0.887230\n",
       "B -0.180885 -1.571091  2.087179  0.500357\n",
       "C  0.814107 -0.857738 -0.115563  0.449208\n",
       "D  0.557065  0.394140 -0.727495  0.838015\n",
       "E  0.827729  1.458285 -1.959837 -1.298077"
      ]
     },
     "execution_count": 41,
     "metadata": {},
     "output_type": "execute_result"
    }
   ],
   "source": [
    "#changes to a DataFrame will create and return a new data frame\n",
    "df2= df.drop('newCol', axis=1)      # axis implies col\n",
    "df2"
   ]
  },
  {
   "cell_type": "code",
   "execution_count": 47,
   "id": "3df47cba-2239-4d41-a33a-24da357c955b",
   "metadata": {},
   "outputs": [
    {
     "data": {
      "text/html": [
       "<div>\n",
       "<style scoped>\n",
       "    .dataframe tbody tr th:only-of-type {\n",
       "        vertical-align: middle;\n",
       "    }\n",
       "\n",
       "    .dataframe tbody tr th {\n",
       "        vertical-align: top;\n",
       "    }\n",
       "\n",
       "    .dataframe thead th {\n",
       "        text-align: right;\n",
       "    }\n",
       "</style>\n",
       "<table border=\"1\" class=\"dataframe\">\n",
       "  <thead>\n",
       "    <tr style=\"text-align: right;\">\n",
       "      <th></th>\n",
       "      <th>col1</th>\n",
       "      <th>col2</th>\n",
       "      <th>col3</th>\n",
       "      <th>col4</th>\n",
       "      <th>newCol</th>\n",
       "    </tr>\n",
       "  </thead>\n",
       "  <tbody>\n",
       "    <tr>\n",
       "      <th>A</th>\n",
       "      <td>0.407302</td>\n",
       "      <td>-0.918306</td>\n",
       "      <td>1.119649</td>\n",
       "      <td>-0.887230</td>\n",
       "      <td>-0.511003</td>\n",
       "    </tr>\n",
       "    <tr>\n",
       "      <th>B</th>\n",
       "      <td>-0.180885</td>\n",
       "      <td>-1.571091</td>\n",
       "      <td>2.087179</td>\n",
       "      <td>0.500357</td>\n",
       "      <td>-1.751976</td>\n",
       "    </tr>\n",
       "    <tr>\n",
       "      <th>C</th>\n",
       "      <td>0.814107</td>\n",
       "      <td>-0.857738</td>\n",
       "      <td>-0.115563</td>\n",
       "      <td>0.449208</td>\n",
       "      <td>-0.043631</td>\n",
       "    </tr>\n",
       "    <tr>\n",
       "      <th>D</th>\n",
       "      <td>0.557065</td>\n",
       "      <td>0.394140</td>\n",
       "      <td>-0.727495</td>\n",
       "      <td>0.838015</td>\n",
       "      <td>0.951204</td>\n",
       "    </tr>\n",
       "    <tr>\n",
       "      <th>E</th>\n",
       "      <td>0.827729</td>\n",
       "      <td>1.458285</td>\n",
       "      <td>-1.959837</td>\n",
       "      <td>-1.298077</td>\n",
       "      <td>2.286014</td>\n",
       "    </tr>\n",
       "  </tbody>\n",
       "</table>\n",
       "</div>"
      ],
      "text/plain": [
       "       col1      col2      col3      col4    newCol\n",
       "A  0.407302 -0.918306  1.119649 -0.887230 -0.511003\n",
       "B -0.180885 -1.571091  2.087179  0.500357 -1.751976\n",
       "C  0.814107 -0.857738 -0.115563  0.449208 -0.043631\n",
       "D  0.557065  0.394140 -0.727495  0.838015  0.951204\n",
       "E  0.827729  1.458285 -1.959837 -1.298077  2.286014"
      ]
     },
     "execution_count": 47,
     "metadata": {},
     "output_type": "execute_result"
    }
   ],
   "source": [
    "df"
   ]
  },
  {
   "cell_type": "code",
   "execution_count": 48,
   "id": "950449f9-24fd-4c94-aed9-a9c2f744ebee",
   "metadata": {},
   "outputs": [
    {
     "data": {
      "text/html": [
       "<div>\n",
       "<style scoped>\n",
       "    .dataframe tbody tr th:only-of-type {\n",
       "        vertical-align: middle;\n",
       "    }\n",
       "\n",
       "    .dataframe tbody tr th {\n",
       "        vertical-align: top;\n",
       "    }\n",
       "\n",
       "    .dataframe thead th {\n",
       "        text-align: right;\n",
       "    }\n",
       "</style>\n",
       "<table border=\"1\" class=\"dataframe\">\n",
       "  <thead>\n",
       "    <tr style=\"text-align: right;\">\n",
       "      <th></th>\n",
       "      <th>col1</th>\n",
       "      <th>col2</th>\n",
       "      <th>col3</th>\n",
       "      <th>col4</th>\n",
       "    </tr>\n",
       "  </thead>\n",
       "  <tbody>\n",
       "    <tr>\n",
       "      <th>A</th>\n",
       "      <td>0.407302</td>\n",
       "      <td>-0.918306</td>\n",
       "      <td>1.119649</td>\n",
       "      <td>-0.887230</td>\n",
       "    </tr>\n",
       "    <tr>\n",
       "      <th>B</th>\n",
       "      <td>-0.180885</td>\n",
       "      <td>-1.571091</td>\n",
       "      <td>2.087179</td>\n",
       "      <td>0.500357</td>\n",
       "    </tr>\n",
       "    <tr>\n",
       "      <th>C</th>\n",
       "      <td>0.814107</td>\n",
       "      <td>-0.857738</td>\n",
       "      <td>-0.115563</td>\n",
       "      <td>0.449208</td>\n",
       "    </tr>\n",
       "    <tr>\n",
       "      <th>D</th>\n",
       "      <td>0.557065</td>\n",
       "      <td>0.394140</td>\n",
       "      <td>-0.727495</td>\n",
       "      <td>0.838015</td>\n",
       "    </tr>\n",
       "    <tr>\n",
       "      <th>E</th>\n",
       "      <td>0.827729</td>\n",
       "      <td>1.458285</td>\n",
       "      <td>-1.959837</td>\n",
       "      <td>-1.298077</td>\n",
       "    </tr>\n",
       "  </tbody>\n",
       "</table>\n",
       "</div>"
      ],
      "text/plain": [
       "       col1      col2      col3      col4\n",
       "A  0.407302 -0.918306  1.119649 -0.887230\n",
       "B -0.180885 -1.571091  2.087179  0.500357\n",
       "C  0.814107 -0.857738 -0.115563  0.449208\n",
       "D  0.557065  0.394140 -0.727495  0.838015\n",
       "E  0.827729  1.458285 -1.959837 -1.298077"
      ]
     },
     "execution_count": 48,
     "metadata": {},
     "output_type": "execute_result"
    }
   ],
   "source": [
    "df.drop('newCol', axis=1, inplace=True)      # in place= true will modify a dataframe\n",
    "df"
   ]
  },
  {
   "cell_type": "markdown",
   "id": "a31889e6-ee99-4fd6-a4ad-81c96b84fb53",
   "metadata": {},
   "source": [
    "# any changes in dataframe, by default is 'NOT' in place\n",
    "# when adding, it modifies a dataframe, but while deleting it creates a copy"
   ]
  },
  {
   "cell_type": "code",
   "execution_count": 49,
   "id": "966bdf26-004b-47fd-95ea-8f756a01ab55",
   "metadata": {},
   "outputs": [
    {
     "data": {
      "text/html": [
       "<div>\n",
       "<style scoped>\n",
       "    .dataframe tbody tr th:only-of-type {\n",
       "        vertical-align: middle;\n",
       "    }\n",
       "\n",
       "    .dataframe tbody tr th {\n",
       "        vertical-align: top;\n",
       "    }\n",
       "\n",
       "    .dataframe thead th {\n",
       "        text-align: right;\n",
       "    }\n",
       "</style>\n",
       "<table border=\"1\" class=\"dataframe\">\n",
       "  <thead>\n",
       "    <tr style=\"text-align: right;\">\n",
       "      <th></th>\n",
       "      <th>col1</th>\n",
       "      <th>col2</th>\n",
       "      <th>col3</th>\n",
       "      <th>col4</th>\n",
       "    </tr>\n",
       "  </thead>\n",
       "  <tbody>\n",
       "    <tr>\n",
       "      <th>B</th>\n",
       "      <td>-0.180885</td>\n",
       "      <td>-1.571091</td>\n",
       "      <td>2.087179</td>\n",
       "      <td>0.500357</td>\n",
       "    </tr>\n",
       "    <tr>\n",
       "      <th>C</th>\n",
       "      <td>0.814107</td>\n",
       "      <td>-0.857738</td>\n",
       "      <td>-0.115563</td>\n",
       "      <td>0.449208</td>\n",
       "    </tr>\n",
       "    <tr>\n",
       "      <th>D</th>\n",
       "      <td>0.557065</td>\n",
       "      <td>0.394140</td>\n",
       "      <td>-0.727495</td>\n",
       "      <td>0.838015</td>\n",
       "    </tr>\n",
       "    <tr>\n",
       "      <th>E</th>\n",
       "      <td>0.827729</td>\n",
       "      <td>1.458285</td>\n",
       "      <td>-1.959837</td>\n",
       "      <td>-1.298077</td>\n",
       "    </tr>\n",
       "  </tbody>\n",
       "</table>\n",
       "</div>"
      ],
      "text/plain": [
       "       col1      col2      col3      col4\n",
       "B -0.180885 -1.571091  2.087179  0.500357\n",
       "C  0.814107 -0.857738 -0.115563  0.449208\n",
       "D  0.557065  0.394140 -0.727495  0.838015\n",
       "E  0.827729  1.458285 -1.959837 -1.298077"
      ]
     },
     "execution_count": 49,
     "metadata": {},
     "output_type": "execute_result"
    }
   ],
   "source": [
    "df.drop('A')    # delete a Row"
   ]
  },
  {
   "cell_type": "code",
   "execution_count": 50,
   "id": "592562fa-6773-49d3-bb50-df2840746056",
   "metadata": {},
   "outputs": [
    {
     "data": {
      "text/html": [
       "<div>\n",
       "<style scoped>\n",
       "    .dataframe tbody tr th:only-of-type {\n",
       "        vertical-align: middle;\n",
       "    }\n",
       "\n",
       "    .dataframe tbody tr th {\n",
       "        vertical-align: top;\n",
       "    }\n",
       "\n",
       "    .dataframe thead th {\n",
       "        text-align: right;\n",
       "    }\n",
       "</style>\n",
       "<table border=\"1\" class=\"dataframe\">\n",
       "  <thead>\n",
       "    <tr style=\"text-align: right;\">\n",
       "      <th></th>\n",
       "      <th>col1</th>\n",
       "      <th>col2</th>\n",
       "      <th>col3</th>\n",
       "      <th>col4</th>\n",
       "    </tr>\n",
       "  </thead>\n",
       "  <tbody>\n",
       "    <tr>\n",
       "      <th>A</th>\n",
       "      <td>0.407302</td>\n",
       "      <td>-0.918306</td>\n",
       "      <td>1.119649</td>\n",
       "      <td>-0.887230</td>\n",
       "    </tr>\n",
       "    <tr>\n",
       "      <th>B</th>\n",
       "      <td>-0.180885</td>\n",
       "      <td>-1.571091</td>\n",
       "      <td>2.087179</td>\n",
       "      <td>0.500357</td>\n",
       "    </tr>\n",
       "    <tr>\n",
       "      <th>C</th>\n",
       "      <td>0.814107</td>\n",
       "      <td>-0.857738</td>\n",
       "      <td>-0.115563</td>\n",
       "      <td>0.449208</td>\n",
       "    </tr>\n",
       "    <tr>\n",
       "      <th>D</th>\n",
       "      <td>0.557065</td>\n",
       "      <td>0.394140</td>\n",
       "      <td>-0.727495</td>\n",
       "      <td>0.838015</td>\n",
       "    </tr>\n",
       "    <tr>\n",
       "      <th>E</th>\n",
       "      <td>0.827729</td>\n",
       "      <td>1.458285</td>\n",
       "      <td>-1.959837</td>\n",
       "      <td>-1.298077</td>\n",
       "    </tr>\n",
       "  </tbody>\n",
       "</table>\n",
       "</div>"
      ],
      "text/plain": [
       "       col1      col2      col3      col4\n",
       "A  0.407302 -0.918306  1.119649 -0.887230\n",
       "B -0.180885 -1.571091  2.087179  0.500357\n",
       "C  0.814107 -0.857738 -0.115563  0.449208\n",
       "D  0.557065  0.394140 -0.727495  0.838015\n",
       "E  0.827729  1.458285 -1.959837 -1.298077"
      ]
     },
     "execution_count": 50,
     "metadata": {},
     "output_type": "execute_result"
    }
   ],
   "source": [
    "df"
   ]
  },
  {
   "cell_type": "markdown",
   "id": "70776ce1-1306-4bf1-bb8f-810a6c39b37b",
   "metadata": {},
   "source": [
    "# Missing data"
   ]
  },
  {
   "cell_type": "code",
   "execution_count": 51,
   "id": "bf151930-0927-4288-a863-7b741cd7e954",
   "metadata": {},
   "outputs": [
    {
     "data": {
      "text/html": [
       "<div>\n",
       "<style scoped>\n",
       "    .dataframe tbody tr th:only-of-type {\n",
       "        vertical-align: middle;\n",
       "    }\n",
       "\n",
       "    .dataframe tbody tr th {\n",
       "        vertical-align: top;\n",
       "    }\n",
       "\n",
       "    .dataframe thead th {\n",
       "        text-align: right;\n",
       "    }\n",
       "</style>\n",
       "<table border=\"1\" class=\"dataframe\">\n",
       "  <thead>\n",
       "    <tr style=\"text-align: right;\">\n",
       "      <th></th>\n",
       "      <th>A</th>\n",
       "      <th>B</th>\n",
       "      <th>C</th>\n",
       "    </tr>\n",
       "  </thead>\n",
       "  <tbody>\n",
       "    <tr>\n",
       "      <th>0</th>\n",
       "      <td>1.0</td>\n",
       "      <td>4</td>\n",
       "      <td>7.0</td>\n",
       "    </tr>\n",
       "    <tr>\n",
       "      <th>1</th>\n",
       "      <td>2.0</td>\n",
       "      <td>5</td>\n",
       "      <td>NaN</td>\n",
       "    </tr>\n",
       "    <tr>\n",
       "      <th>2</th>\n",
       "      <td>NaN</td>\n",
       "      <td>6</td>\n",
       "      <td>9.0</td>\n",
       "    </tr>\n",
       "  </tbody>\n",
       "</table>\n",
       "</div>"
      ],
      "text/plain": [
       "     A  B    C\n",
       "0  1.0  4  7.0\n",
       "1  2.0  5  NaN\n",
       "2  NaN  6  9.0"
      ]
     },
     "execution_count": 51,
     "metadata": {},
     "output_type": "execute_result"
    }
   ],
   "source": [
    "df= pd.DataFrame({'A':[1,2, np.nan],'B':[4,5,6], 'C':[ 7,np.nan, 9]})\n",
    "df"
   ]
  },
  {
   "cell_type": "code",
   "execution_count": 53,
   "id": "6b88a5f0-bbaf-4731-96b2-c84627c4efc3",
   "metadata": {},
   "outputs": [
    {
     "data": {
      "text/html": [
       "<div>\n",
       "<style scoped>\n",
       "    .dataframe tbody tr th:only-of-type {\n",
       "        vertical-align: middle;\n",
       "    }\n",
       "\n",
       "    .dataframe tbody tr th {\n",
       "        vertical-align: top;\n",
       "    }\n",
       "\n",
       "    .dataframe thead th {\n",
       "        text-align: right;\n",
       "    }\n",
       "</style>\n",
       "<table border=\"1\" class=\"dataframe\">\n",
       "  <thead>\n",
       "    <tr style=\"text-align: right;\">\n",
       "      <th></th>\n",
       "      <th>A</th>\n",
       "      <th>B</th>\n",
       "      <th>C</th>\n",
       "    </tr>\n",
       "  </thead>\n",
       "  <tbody>\n",
       "    <tr>\n",
       "      <th>0</th>\n",
       "      <td>1.0</td>\n",
       "      <td>4</td>\n",
       "      <td>7.0</td>\n",
       "    </tr>\n",
       "  </tbody>\n",
       "</table>\n",
       "</div>"
      ],
      "text/plain": [
       "     A  B    C\n",
       "0  1.0  4  7.0"
      ]
     },
     "execution_count": 53,
     "metadata": {},
     "output_type": "execute_result"
    }
   ],
   "source": [
    "df.dropna()       #drop rows which have atleast one missing data"
   ]
  },
  {
   "cell_type": "code",
   "execution_count": 54,
   "id": "ed69cbb6-1f58-49a4-9d7a-51d7b7dada9a",
   "metadata": {},
   "outputs": [
    {
     "data": {
      "text/html": [
       "<div>\n",
       "<style scoped>\n",
       "    .dataframe tbody tr th:only-of-type {\n",
       "        vertical-align: middle;\n",
       "    }\n",
       "\n",
       "    .dataframe tbody tr th {\n",
       "        vertical-align: top;\n",
       "    }\n",
       "\n",
       "    .dataframe thead th {\n",
       "        text-align: right;\n",
       "    }\n",
       "</style>\n",
       "<table border=\"1\" class=\"dataframe\">\n",
       "  <thead>\n",
       "    <tr style=\"text-align: right;\">\n",
       "      <th></th>\n",
       "      <th>B</th>\n",
       "    </tr>\n",
       "  </thead>\n",
       "  <tbody>\n",
       "    <tr>\n",
       "      <th>0</th>\n",
       "      <td>4</td>\n",
       "    </tr>\n",
       "    <tr>\n",
       "      <th>1</th>\n",
       "      <td>5</td>\n",
       "    </tr>\n",
       "    <tr>\n",
       "      <th>2</th>\n",
       "      <td>6</td>\n",
       "    </tr>\n",
       "  </tbody>\n",
       "</table>\n",
       "</div>"
      ],
      "text/plain": [
       "   B\n",
       "0  4\n",
       "1  5\n",
       "2  6"
      ]
     },
     "execution_count": 54,
     "metadata": {},
     "output_type": "execute_result"
    }
   ],
   "source": [
    "df.dropna(axis=1)       #drop cols which have atleast one missing data"
   ]
  },
  {
   "cell_type": "code",
   "execution_count": 56,
   "id": "ca4481f2-b0d2-498b-bc88-0a4d41a67625",
   "metadata": {},
   "outputs": [
    {
     "data": {
      "text/html": [
       "<div>\n",
       "<style scoped>\n",
       "    .dataframe tbody tr th:only-of-type {\n",
       "        vertical-align: middle;\n",
       "    }\n",
       "\n",
       "    .dataframe tbody tr th {\n",
       "        vertical-align: top;\n",
       "    }\n",
       "\n",
       "    .dataframe thead th {\n",
       "        text-align: right;\n",
       "    }\n",
       "</style>\n",
       "<table border=\"1\" class=\"dataframe\">\n",
       "  <thead>\n",
       "    <tr style=\"text-align: right;\">\n",
       "      <th></th>\n",
       "      <th>A</th>\n",
       "      <th>B</th>\n",
       "      <th>C</th>\n",
       "    </tr>\n",
       "  </thead>\n",
       "  <tbody>\n",
       "    <tr>\n",
       "      <th>0</th>\n",
       "      <td>1.0</td>\n",
       "      <td>4</td>\n",
       "      <td>7.0</td>\n",
       "    </tr>\n",
       "    <tr>\n",
       "      <th>1</th>\n",
       "      <td>2.0</td>\n",
       "      <td>5</td>\n",
       "      <td>NaN</td>\n",
       "    </tr>\n",
       "    <tr>\n",
       "      <th>2</th>\n",
       "      <td>NaN</td>\n",
       "      <td>6</td>\n",
       "      <td>9.0</td>\n",
       "    </tr>\n",
       "  </tbody>\n",
       "</table>\n",
       "</div>"
      ],
      "text/plain": [
       "     A  B    C\n",
       "0  1.0  4  7.0\n",
       "1  2.0  5  NaN\n",
       "2  NaN  6  9.0"
      ]
     },
     "execution_count": 56,
     "metadata": {},
     "output_type": "execute_result"
    }
   ],
   "source": [
    "df.dropna(thresh=2)       #retain rows with atleast 2 not null values"
   ]
  },
  {
   "cell_type": "code",
   "execution_count": 57,
   "id": "a51d1f32-94e9-4d82-8057-be8c3c4dab17",
   "metadata": {},
   "outputs": [
    {
     "data": {
      "text/html": [
       "<div>\n",
       "<style scoped>\n",
       "    .dataframe tbody tr th:only-of-type {\n",
       "        vertical-align: middle;\n",
       "    }\n",
       "\n",
       "    .dataframe tbody tr th {\n",
       "        vertical-align: top;\n",
       "    }\n",
       "\n",
       "    .dataframe thead th {\n",
       "        text-align: right;\n",
       "    }\n",
       "</style>\n",
       "<table border=\"1\" class=\"dataframe\">\n",
       "  <thead>\n",
       "    <tr style=\"text-align: right;\">\n",
       "      <th></th>\n",
       "      <th>A</th>\n",
       "      <th>B</th>\n",
       "      <th>C</th>\n",
       "    </tr>\n",
       "  </thead>\n",
       "  <tbody>\n",
       "    <tr>\n",
       "      <th>0</th>\n",
       "      <td>1.0</td>\n",
       "      <td>4</td>\n",
       "      <td>7.0</td>\n",
       "    </tr>\n",
       "    <tr>\n",
       "      <th>1</th>\n",
       "      <td>2.0</td>\n",
       "      <td>5</td>\n",
       "      <td>0.0</td>\n",
       "    </tr>\n",
       "    <tr>\n",
       "      <th>2</th>\n",
       "      <td>0.0</td>\n",
       "      <td>6</td>\n",
       "      <td>9.0</td>\n",
       "    </tr>\n",
       "  </tbody>\n",
       "</table>\n",
       "</div>"
      ],
      "text/plain": [
       "     A  B    C\n",
       "0  1.0  4  7.0\n",
       "1  2.0  5  0.0\n",
       "2  0.0  6  9.0"
      ]
     },
     "execution_count": 57,
     "metadata": {},
     "output_type": "execute_result"
    }
   ],
   "source": [
    "df.fillna(0)"
   ]
  },
  {
   "cell_type": "code",
   "execution_count": 58,
   "id": "7436ce8a-3aac-4433-b57a-0f9d17c7fc1c",
   "metadata": {},
   "outputs": [
    {
     "data": {
      "text/html": [
       "<div>\n",
       "<style scoped>\n",
       "    .dataframe tbody tr th:only-of-type {\n",
       "        vertical-align: middle;\n",
       "    }\n",
       "\n",
       "    .dataframe tbody tr th {\n",
       "        vertical-align: top;\n",
       "    }\n",
       "\n",
       "    .dataframe thead th {\n",
       "        text-align: right;\n",
       "    }\n",
       "</style>\n",
       "<table border=\"1\" class=\"dataframe\">\n",
       "  <thead>\n",
       "    <tr style=\"text-align: right;\">\n",
       "      <th></th>\n",
       "      <th>A</th>\n",
       "      <th>B</th>\n",
       "      <th>C</th>\n",
       "    </tr>\n",
       "  </thead>\n",
       "  <tbody>\n",
       "    <tr>\n",
       "      <th>0</th>\n",
       "      <td>1.0</td>\n",
       "      <td>4</td>\n",
       "      <td>7.0</td>\n",
       "    </tr>\n",
       "    <tr>\n",
       "      <th>1</th>\n",
       "      <td>2.0</td>\n",
       "      <td>5</td>\n",
       "      <td>8.0</td>\n",
       "    </tr>\n",
       "    <tr>\n",
       "      <th>2</th>\n",
       "      <td>1.5</td>\n",
       "      <td>6</td>\n",
       "      <td>9.0</td>\n",
       "    </tr>\n",
       "  </tbody>\n",
       "</table>\n",
       "</div>"
      ],
      "text/plain": [
       "     A  B    C\n",
       "0  1.0  4  7.0\n",
       "1  2.0  5  8.0\n",
       "2  1.5  6  9.0"
      ]
     },
     "execution_count": 58,
     "metadata": {},
     "output_type": "execute_result"
    }
   ],
   "source": [
    "df.fillna(df.mean())    # fill missing data as average of other rows"
   ]
  },
  {
   "cell_type": "markdown",
   "id": "9c0fc093-be9e-428f-9874-72029b124857",
   "metadata": {},
   "source": [
    "# Reading data"
   ]
  },
  {
   "cell_type": "code",
   "execution_count": 67,
   "id": "51dbc118-e8ae-4148-9874-cd543ad5fcbb",
   "metadata": {},
   "outputs": [
    {
     "data": {
      "text/html": [
       "<div>\n",
       "<style scoped>\n",
       "    .dataframe tbody tr th:only-of-type {\n",
       "        vertical-align: middle;\n",
       "    }\n",
       "\n",
       "    .dataframe tbody tr th {\n",
       "        vertical-align: top;\n",
       "    }\n",
       "\n",
       "    .dataframe thead th {\n",
       "        text-align: right;\n",
       "    }\n",
       "</style>\n",
       "<table border=\"1\" class=\"dataframe\">\n",
       "  <thead>\n",
       "    <tr style=\"text-align: right;\">\n",
       "      <th></th>\n",
       "      <th>a</th>\n",
       "      <th>b</th>\n",
       "      <th>c</th>\n",
       "      <th>d</th>\n",
       "    </tr>\n",
       "  </thead>\n",
       "  <tbody>\n",
       "    <tr>\n",
       "      <th>0</th>\n",
       "      <td>0</td>\n",
       "      <td>1</td>\n",
       "      <td>2</td>\n",
       "      <td>3</td>\n",
       "    </tr>\n",
       "    <tr>\n",
       "      <th>1</th>\n",
       "      <td>x</td>\n",
       "      <td>y</td>\n",
       "      <td>z</td>\n",
       "      <td>p</td>\n",
       "    </tr>\n",
       "    <tr>\n",
       "      <th>2</th>\n",
       "      <td>11</td>\n",
       "      <td>22</td>\n",
       "      <td>33</td>\n",
       "      <td>44</td>\n",
       "    </tr>\n",
       "  </tbody>\n",
       "</table>\n",
       "</div>"
      ],
      "text/plain": [
       "    a   b   c   d\n",
       "0   0   1   2   3\n",
       "1   x   y   z   p\n",
       "2  11  22  33  44"
      ]
     },
     "execution_count": 67,
     "metadata": {},
     "output_type": "execute_result"
    }
   ],
   "source": [
    "df= pd.read_csv('Example.csv')\n",
    "df"
   ]
  },
  {
   "cell_type": "code",
   "execution_count": 65,
   "id": "fc2147bd-9b42-400f-97de-a04b2b7c3fc8",
   "metadata": {},
   "outputs": [],
   "source": [
    "df= df.to_csv('Example2.csv')      # save a file"
   ]
  },
  {
   "cell_type": "code",
   "execution_count": 71,
   "id": "d21d9dee-322a-430a-bd97-062c3105dd0f",
   "metadata": {},
   "outputs": [
    {
     "data": {
      "text/html": [
       "<div>\n",
       "<style scoped>\n",
       "    .dataframe tbody tr th:only-of-type {\n",
       "        vertical-align: middle;\n",
       "    }\n",
       "\n",
       "    .dataframe tbody tr th {\n",
       "        vertical-align: top;\n",
       "    }\n",
       "\n",
       "    .dataframe thead th {\n",
       "        text-align: right;\n",
       "    }\n",
       "</style>\n",
       "<table border=\"1\" class=\"dataframe\">\n",
       "  <thead>\n",
       "    <tr style=\"text-align: right;\">\n",
       "      <th></th>\n",
       "      <th>a</th>\n",
       "      <th>b</th>\n",
       "      <th>c</th>\n",
       "      <th>d</th>\n",
       "    </tr>\n",
       "  </thead>\n",
       "  <tbody>\n",
       "    <tr>\n",
       "      <th>0</th>\n",
       "      <td>0</td>\n",
       "      <td>1</td>\n",
       "      <td>2</td>\n",
       "      <td>3</td>\n",
       "    </tr>\n",
       "    <tr>\n",
       "      <th>1</th>\n",
       "      <td>x</td>\n",
       "      <td>y</td>\n",
       "      <td>z</td>\n",
       "      <td>p</td>\n",
       "    </tr>\n",
       "    <tr>\n",
       "      <th>2</th>\n",
       "      <td>11</td>\n",
       "      <td>22</td>\n",
       "      <td>33</td>\n",
       "      <td>44</td>\n",
       "    </tr>\n",
       "  </tbody>\n",
       "</table>\n",
       "</div>"
      ],
      "text/plain": [
       "    a   b   c   d\n",
       "0   0   1   2   3\n",
       "1   x   y   z   p\n",
       "2  11  22  33  44"
      ]
     },
     "execution_count": 71,
     "metadata": {},
     "output_type": "execute_result"
    }
   ],
   "source": [
    "df"
   ]
  },
  {
   "cell_type": "markdown",
   "id": "4a2e8c2b-cb98-4a7b-a604-0028e603b575",
   "metadata": {},
   "source": [
    "# Excel Library install"
   ]
  },
  {
   "cell_type": "code",
   "execution_count": 75,
   "id": "0bf8b51f-4b84-49f6-931d-e38fbfc8cfe0",
   "metadata": {},
   "outputs": [
    {
     "name": "stdout",
     "output_type": "stream",
     "text": [
      "Requirement already satisfied: openpyxl in c:\\python312\\lib\\site-packages (3.1.2)\n",
      "Requirement already satisfied: et-xmlfile in c:\\python312\\lib\\site-packages (from openpyxl) (1.1.0)\n"
     ]
    }
   ],
   "source": [
    "# install Excel related library\n",
    "!pip install openpyxl"
   ]
  },
  {
   "cell_type": "code",
   "execution_count": 76,
   "id": "4bee0090-95de-4e2a-8fe2-957611bfc7fc",
   "metadata": {},
   "outputs": [],
   "source": [
    "df.to_excel('example.xlsx', sheet_name='mysheet', index=False)"
   ]
  },
  {
   "cell_type": "code",
   "execution_count": 77,
   "id": "de89867d-d79a-42e0-8b23-7ca843b6d969",
   "metadata": {},
   "outputs": [
    {
     "name": "stdout",
     "output_type": "stream",
     "text": [
      "Collecting lxml\n",
      "  Downloading lxml-5.1.0-cp312-cp312-win_amd64.whl.metadata (3.6 kB)\n",
      "Downloading lxml-5.1.0-cp312-cp312-win_amd64.whl (3.9 MB)\n",
      "   ---------------------------------------- 0.0/3.9 MB ? eta -:--:--\n",
      "   ---------------------------------------- 0.0/3.9 MB ? eta -:--:--\n",
      "   ---------------------------------------- 0.0/3.9 MB ? eta -:--:--\n",
      "   ---------------------------------------- 0.0/3.9 MB ? eta -:--:--\n",
      "   ---------------------------------------- 0.0/3.9 MB 325.1 kB/s eta 0:00:12\n",
      "   ---------------------------------------- 0.0/3.9 MB 326.8 kB/s eta 0:00:12\n",
      "    --------------------------------------- 0.1/3.9 MB 476.3 kB/s eta 0:00:09\n",
      "   - -------------------------------------- 0.2/3.9 MB 701.4 kB/s eta 0:00:06\n",
      "   -- ------------------------------------- 0.2/3.9 MB 860.2 kB/s eta 0:00:05\n",
      "   -- ------------------------------------- 0.3/3.9 MB 883.3 kB/s eta 0:00:05\n",
      "   --- ------------------------------------ 0.4/3.9 MB 998.3 kB/s eta 0:00:04\n",
      "   ----- ---------------------------------- 0.6/3.9 MB 1.4 MB/s eta 0:00:03\n",
      "   ------- -------------------------------- 0.7/3.9 MB 1.7 MB/s eta 0:00:02\n",
      "   ----------- ---------------------------- 1.1/3.9 MB 2.3 MB/s eta 0:00:02\n",
      "   --------------- ------------------------ 1.5/3.9 MB 2.8 MB/s eta 0:00:01\n",
      "   ------------------- -------------------- 1.9/3.9 MB 3.1 MB/s eta 0:00:01\n",
      "   ------------------------------ --------- 3.0/3.9 MB 4.8 MB/s eta 0:00:01\n",
      "   ------------------------------------ --- 3.6/3.9 MB 5.3 MB/s eta 0:00:01\n",
      "   ---------------------------------------  3.9/3.9 MB 5.7 MB/s eta 0:00:01\n",
      "   ---------------------------------------  3.9/3.9 MB 5.7 MB/s eta 0:00:01\n",
      "   ---------------------------------------  3.9/3.9 MB 5.7 MB/s eta 0:00:01\n",
      "   ---------------------------------------  3.9/3.9 MB 5.7 MB/s eta 0:00:01\n",
      "   ---------------------------------------  3.9/3.9 MB 5.7 MB/s eta 0:00:01\n",
      "   ---------------------------------------  3.9/3.9 MB 5.7 MB/s eta 0:00:01\n",
      "   ---------------------------------------  3.9/3.9 MB 5.7 MB/s eta 0:00:01\n",
      "   ---------------------------------------  3.9/3.9 MB 5.7 MB/s eta 0:00:01\n",
      "   ---------------------------------------  3.9/3.9 MB 5.7 MB/s eta 0:00:01\n",
      "   ---------------------------------------  3.9/3.9 MB 5.7 MB/s eta 0:00:01\n",
      "   ---------------------------------------  3.9/3.9 MB 5.7 MB/s eta 0:00:01\n",
      "   ---------------------------------------- 3.9/3.9 MB 3.3 MB/s eta 0:00:00\n",
      "Installing collected packages: lxml\n",
      "Successfully installed lxml-5.1.0\n"
     ]
    }
   ],
   "source": [
    "!pip install lxml"
   ]
  },
  {
   "cell_type": "markdown",
   "id": "2fc1f363-1e47-4b62-9d86-85eb79652323",
   "metadata": {},
   "source": [
    "# install html library"
   ]
  },
  {
   "cell_type": "code",
   "execution_count": 78,
   "id": "2c7977a0-777a-461f-a398-6a4dd906a9c7",
   "metadata": {},
   "outputs": [
    {
     "name": "stdout",
     "output_type": "stream",
     "text": [
      "Collecting html5lib\n",
      "  Downloading html5lib-1.1-py2.py3-none-any.whl (112 kB)\n",
      "     ---------------------------------------- 0.0/112.2 kB ? eta -:--:--\n",
      "     ---------------------------------------- 0.0/112.2 kB ? eta -:--:--\n",
      "     --- ------------------------------------ 10.2/112.2 kB ? eta -:--:--\n",
      "     ------ ------------------------------ 20.5/112.2 kB 131.3 kB/s eta 0:00:01\n",
      "     ---------- -------------------------- 30.7/112.2 kB 187.9 kB/s eta 0:00:01\n",
      "     ---------------- -------------------- 51.2/112.2 kB 238.1 kB/s eta 0:00:01\n",
      "     ----------------------- ------------- 71.7/112.2 kB 281.8 kB/s eta 0:00:01\n",
      "     -------------------------------- --- 102.4/112.2 kB 368.6 kB/s eta 0:00:01\n",
      "     -------------------------------- --- 102.4/112.2 kB 368.6 kB/s eta 0:00:01\n",
      "     -------------------------------- --- 102.4/112.2 kB 368.6 kB/s eta 0:00:01\n",
      "     -------------------------------- --- 102.4/112.2 kB 368.6 kB/s eta 0:00:01\n",
      "     -------------------------------- --- 102.4/112.2 kB 368.6 kB/s eta 0:00:01\n",
      "     -------------------------------- --- 102.4/112.2 kB 368.6 kB/s eta 0:00:01\n",
      "     -------------------------------- --- 102.4/112.2 kB 368.6 kB/s eta 0:00:01\n",
      "     -------------------------------- --- 102.4/112.2 kB 368.6 kB/s eta 0:00:01\n",
      "     -------------------------------- --- 102.4/112.2 kB 368.6 kB/s eta 0:00:01\n",
      "     -------------------------------- --- 102.4/112.2 kB 368.6 kB/s eta 0:00:01\n",
      "     -------------------------------- --- 102.4/112.2 kB 368.6 kB/s eta 0:00:01\n",
      "     -------------------------------- --- 102.4/112.2 kB 368.6 kB/s eta 0:00:01\n",
      "     -------------------------------- --- 102.4/112.2 kB 368.6 kB/s eta 0:00:01\n",
      "     -------------------------------- --- 102.4/112.2 kB 368.6 kB/s eta 0:00:01\n",
      "     -------------------------------- --- 102.4/112.2 kB 368.6 kB/s eta 0:00:01\n",
      "     -------------------------------- --- 102.4/112.2 kB 368.6 kB/s eta 0:00:01\n",
      "     ------------------------------------ 112.2/112.2 kB 101.9 kB/s eta 0:00:00\n",
      "Requirement already satisfied: six>=1.9 in c:\\python312\\lib\\site-packages (from html5lib) (1.16.0)\n",
      "Requirement already satisfied: webencodings in c:\\python312\\lib\\site-packages (from html5lib) (0.5.1)\n",
      "Installing collected packages: html5lib\n",
      "Successfully installed html5lib-1.1\n"
     ]
    }
   ],
   "source": [
    "! pip install html5lib"
   ]
  },
  {
   "cell_type": "code",
   "execution_count": 79,
   "id": "48709d59-9b76-4f27-9f14-3235528d2b6b",
   "metadata": {},
   "outputs": [
    {
     "data": {
      "text/plain": [
       "[                        Company           Contact  Country\n",
       " 0           Alfreds Futterkiste      Maria Anders  Germany\n",
       " 1    Centro comercial Moctezuma   Francisco Chang   Mexico\n",
       " 2                  Ernst Handel     Roland Mendel  Austria\n",
       " 3                Island Trading     Helen Bennett       UK\n",
       " 4  Laughing Bacchus Winecellars   Yoshi Tannamuri   Canada\n",
       " 5  Magazzini Alimentari Riuniti  Giovanni Rovelli    Italy,\n",
       "           Tag                                        Description\n",
       " 0     <table>                                    Defines a table\n",
       " 1        <th>                   Defines a header cell in a table\n",
       " 2        <tr>                           Defines a row in a table\n",
       " 3        <td>                          Defines a cell in a table\n",
       " 4   <caption>                            Defines a table caption\n",
       " 5  <colgroup>  Specifies a group of one or more columns in a ...\n",
       " 6       <col>  Specifies column properties for each column wi...\n",
       " 7     <thead>               Groups the header content in a table\n",
       " 8     <tbody>                 Groups the body content in a table\n",
       " 9     <tfoot>               Groups the footer content in a table]"
      ]
     },
     "execution_count": 79,
     "metadata": {},
     "output_type": "execute_result"
    }
   ],
   "source": [
    "df_array= pd.read_html('https://www.w3schools.com/html/html_tables.asp')\n",
    "df_array"
   ]
  },
  {
   "cell_type": "code",
   "execution_count": null,
   "id": "ab40cb79-5695-4c54-a817-d74bc2fb493a",
   "metadata": {},
   "outputs": [],
   "source": []
  }
 ],
 "metadata": {
  "kernelspec": {
   "display_name": "Python 3 (ipykernel)",
   "language": "python",
   "name": "python3"
  },
  "language_info": {
   "codemirror_mode": {
    "name": "ipython",
    "version": 3
   },
   "file_extension": ".py",
   "mimetype": "text/x-python",
   "name": "python",
   "nbconvert_exporter": "python",
   "pygments_lexer": "ipython3",
   "version": "3.12.1"
  }
 },
 "nbformat": 4,
 "nbformat_minor": 5
}
