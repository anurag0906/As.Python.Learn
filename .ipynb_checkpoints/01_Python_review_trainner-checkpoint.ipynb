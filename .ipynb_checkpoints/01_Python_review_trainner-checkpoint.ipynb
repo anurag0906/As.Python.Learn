{
 "cells": [
  {
   "cell_type": "markdown",
   "id": "808f3f48",
   "metadata": {},
   "source": [
    "### Intermediate Python\n",
    "- by Rahul"
   ]
  },
  {
   "cell_type": "markdown",
   "id": "c1e131d1",
   "metadata": {},
   "source": [
    "#### Python review"
   ]
  },
  {
   "cell_type": "code",
   "execution_count": null,
   "id": "8cb15123",
   "metadata": {},
   "outputs": [],
   "source": [
    "s = 'I Like Python'\n",
    "s"
   ]
  },
  {
   "cell_type": "code",
   "execution_count": null,
   "id": "15c28db0",
   "metadata": {},
   "outputs": [],
   "source": [
    "a = 10\n",
    "b = 20\n",
    "print(a)\n",
    "print(b)"
   ]
  },
  {
   "cell_type": "markdown",
   "id": "ad550686",
   "metadata": {},
   "source": [
    "#### Dynamic language but still importance to types"
   ]
  },
  {
   "cell_type": "code",
   "execution_count": null,
   "id": "4e111985",
   "metadata": {},
   "outputs": [],
   "source": [
    "x = 10\n",
    "print(type(x))\n",
    "\n",
    "x = 'Python'\n",
    "print(type(x))\n",
    "\n",
    "x = False\n",
    "print(type(x))\n",
    "\n",
    "x = [1,2,3]\n",
    "print(type(x))"
   ]
  },
  {
   "cell_type": "code",
   "execution_count": null,
   "id": "73b28e81",
   "metadata": {},
   "outputs": [],
   "source": [
    "x = 10\n",
    "y = 'A'\n",
    "z = x + int(y)\n",
    "z"
   ]
  },
  {
   "cell_type": "code",
   "execution_count": null,
   "id": "2019a8d8",
   "metadata": {},
   "outputs": [],
   "source": [
    "str(x) + y "
   ]
  },
  {
   "cell_type": "code",
   "execution_count": null,
   "id": "52ed584a",
   "metadata": {},
   "outputs": [],
   "source": [
    "x = 10\n",
    "y = 'A'\n",
    "z = x + int(y)\n",
    "z"
   ]
  },
  {
   "cell_type": "markdown",
   "id": "57ed88fd",
   "metadata": {},
   "source": [
    "#### Control statements"
   ]
  },
  {
   "cell_type": "code",
   "execution_count": null,
   "id": "cfafdbf3",
   "metadata": {},
   "outputs": [],
   "source": [
    "num = int(input('Enter a number: '))\n",
    "\n",
    "if num > 0:\n",
    "    print(num, 'is positive')\n",
    "elif num < 0:\n",
    "    print(num, 'is negative')\n",
    "else:\n",
    "    print(num, 'is Zero')"
   ]
  },
  {
   "cell_type": "code",
   "execution_count": 10,
   "id": "9256e6c1",
   "metadata": {},
   "outputs": [
    {
     "name": "stdout",
     "output_type": "stream",
     "text": [
      "35\n",
      "['False', 'None', 'True', 'and', 'as', 'assert', 'async', 'await', 'break', 'class', 'continue', 'def', 'del', 'elif', 'else', 'except', 'finally', 'for', 'from', 'global', 'if', 'import', 'in', 'is', 'lambda', 'nonlocal', 'not', 'or', 'pass', 'raise', 'return', 'try', 'while', 'with', 'yield']\n"
     ]
    }
   ],
   "source": [
    "import keyword\n",
    "\n",
    "print(len(keyword.kwlist))\n",
    "print(keyword.kwlist)"
   ]
  },
  {
   "cell_type": "code",
   "execution_count": null,
   "id": "0375312a",
   "metadata": {},
   "outputs": [],
   "source": [
    "s = input('Enter a month (1-12): ')\n",
    "\n",
    "if s.isnumeric():\n",
    "    month = int(s)\n",
    "    \n",
    "    if month == 1 or month == 2 or month == 3:\n",
    "        print('First Quarter')\n",
    "    elif month == 4 or month == 5 or month == 6:\n",
    "        print('Second Quarter')\n",
    "    elif month == 7 or month == 8 or month == 9:\n",
    "        print('Third Quarter')\n",
    "    elif month == 10 or month == 11 or month == 12:\n",
    "        print('Fourth Quarter')\n",
    "    else:\n",
    "        print('Please enter between 1 and 12')\n",
    "else:\n",
    "    print('Please enter numerical value')"
   ]
  },
  {
   "cell_type": "code",
   "execution_count": null,
   "id": "4d676c57",
   "metadata": {},
   "outputs": [],
   "source": [
    "s = input('Enter a month (1-12): ')\n",
    "\n",
    "if s.isnumeric():\n",
    "    month = int(s)\n",
    "    \n",
    "    if month in (1,2,3):\n",
    "        print('First Quarter')    \n",
    "    elif month in (4,5,6):\n",
    "        print('Second Quarter')\n",
    "    elif month in (7,8,9):\n",
    "        print('Third Quarter')\n",
    "    elif month in (10,11,13):\n",
    "        print('Fourth Quarter')\n",
    "    else:\n",
    "        print('Please enter between 1 and 12')\n",
    "else:\n",
    "    print('Please enter numerical value')"
   ]
  },
  {
   "cell_type": "code",
   "execution_count": null,
   "id": "76007458",
   "metadata": {},
   "outputs": [],
   "source": [
    "s = input('Enter a month (1-12): ')\n",
    "\n",
    "if s.isnumeric():\n",
    "    month = int(s)\n",
    "    \n",
    "    match  month:\n",
    "        case 1 | 2 | 3:\n",
    "            print('First Quarter') \n",
    "        case 4 | 5 | 5:\n",
    "            print('Second Quarter') \n",
    "        case 7 | 8 | 9:\n",
    "            print('Third Quarter') \n",
    "        case 10 | 11 | 12:\n",
    "            print('Fourt Quarter')     \n",
    "        case _:    \n",
    "            print('Please enter between 1 and 12')\n",
    "else:\n",
    "    print('Please enter numerical value')"
   ]
  },
  {
   "cell_type": "markdown",
   "id": "ef5975bb",
   "metadata": {},
   "source": [
    "#### Iterative statements"
   ]
  },
  {
   "cell_type": "code",
   "execution_count": null,
   "id": "e82e8dc5",
   "metadata": {},
   "outputs": [],
   "source": [
    "#for i in range(10): # from 0 to stop-1\n",
    "#for i in range(1,11): # from start to stop-1\n",
    "#for i in range(1,11,3):\n",
    "\n",
    "for i in range(10,0,-1):\n",
    "    print(i, end='  ')"
   ]
  },
  {
   "cell_type": "markdown",
   "id": "3e716190",
   "metadata": {},
   "source": [
    "#### Iterable objects\n",
    "- string\n",
    "- list\n",
    "- set\n",
    "- tuple\n",
    "- dict"
   ]
  },
  {
   "cell_type": "code",
   "execution_count": null,
   "id": "004b00c1",
   "metadata": {},
   "outputs": [],
   "source": [
    "list1 = [10, 20, 30]\n",
    "\n",
    "for ele in list1:\n",
    "    print(ele)"
   ]
  },
  {
   "cell_type": "code",
   "execution_count": null,
   "id": "ed74be6d",
   "metadata": {},
   "outputs": [],
   "source": [
    "len(list1)"
   ]
  },
  {
   "cell_type": "code",
   "execution_count": null,
   "id": "9f5be825",
   "metadata": {},
   "outputs": [],
   "source": [
    "s1 = 'I Like Python'\n",
    "\n",
    "for ch in s1:\n",
    "    print(ch, end='')"
   ]
  },
  {
   "cell_type": "code",
   "execution_count": null,
   "id": "075cd83a",
   "metadata": {},
   "outputs": [],
   "source": [
    "s1 = 'I Like Python'\n",
    "\n",
    "for ch in s1:    \n",
    "    if ch == 't':\n",
    "        break\n",
    "\n",
    "    print(ch, end='')"
   ]
  },
  {
   "cell_type": "code",
   "execution_count": null,
   "id": "c4c1ea8d",
   "metadata": {},
   "outputs": [],
   "source": [
    "s1 = 'I Like Python'\n",
    "\n",
    "for ch in s1:    \n",
    "    if ch == 't':\n",
    "        continue\n",
    "\n",
    "    print(ch, end='')"
   ]
  },
  {
   "cell_type": "markdown",
   "id": "f6a30d85",
   "metadata": {},
   "source": [
    "#### while loop"
   ]
  },
  {
   "cell_type": "code",
   "execution_count": null,
   "id": "5d6133ac",
   "metadata": {},
   "outputs": [],
   "source": [
    "for i in range(1,11):\n",
    "    print(i)"
   ]
  },
  {
   "cell_type": "code",
   "execution_count": null,
   "id": "f3d13c04",
   "metadata": {},
   "outputs": [],
   "source": [
    "i = 1\n",
    "\n",
    "while i < 11:\n",
    "    print(i)\n",
    "    i += 1"
   ]
  },
  {
   "cell_type": "markdown",
   "id": "02d4beef",
   "metadata": {},
   "source": [
    "#### Working with functions"
   ]
  },
  {
   "cell_type": "code",
   "execution_count": null,
   "id": "02629a4c",
   "metadata": {},
   "outputs": [],
   "source": [
    "def add(a, b):\n",
    "    sum = a + b\n",
    "    return sum\n",
    "\n",
    "#-----------------------\n",
    "num1 = 10\n",
    "num2 = 20\n",
    "result = add(num1, num2)\n",
    "\n",
    "print('Sum of', num1, 'and', num2, '=', result)\n",
    "\n",
    "print('Sum of {} and {} = {}'.format(num1, num2, result))\n",
    "\n",
    "print('Sum of %d and %d = %d' % (num1, num2, result))\n",
    "\n",
    "print(f'Sum of {num1} and {num2} = {result}')"
   ]
  },
  {
   "cell_type": "markdown",
   "id": "e0fdff68",
   "metadata": {},
   "source": [
    "#### Variable scope"
   ]
  },
  {
   "cell_type": "code",
   "execution_count": 1,
   "id": "0e4ddd8f",
   "metadata": {},
   "outputs": [
    {
     "name": "stdout",
     "output_type": "stream",
     "text": [
      "---Begin function-------\n",
      "a =  10\n",
      "b =  20\n",
      "---End function-------\n",
      "a =  10\n",
      "b =  20\n"
     ]
    }
   ],
   "source": [
    "a = 10\n",
    "\n",
    "def func():\n",
    "    global b\n",
    "    b = 20\n",
    "    print('---Begin function-------')\n",
    "    \n",
    "    print('a = ', a)\n",
    "    print('b = ', b)\n",
    "    \n",
    "    print('---End function-------')\n",
    "\n",
    "#---------------------------------------------\n",
    "\n",
    "\n",
    "func()\n",
    "print('a = ', a)\n",
    "print('b = ', b)"
   ]
  },
  {
   "cell_type": "code",
   "execution_count": 2,
   "id": "066a8e91",
   "metadata": {},
   "outputs": [],
   "source": [
    "a = 100"
   ]
  },
  {
   "cell_type": "code",
   "execution_count": 3,
   "id": "a320d815",
   "metadata": {},
   "outputs": [
    {
     "data": {
      "text/plain": [
       "100"
      ]
     },
     "execution_count": 3,
     "metadata": {},
     "output_type": "execute_result"
    }
   ],
   "source": [
    "a"
   ]
  },
  {
   "cell_type": "code",
   "execution_count": 6,
   "id": "5858fbed",
   "metadata": {},
   "outputs": [
    {
     "name": "stdout",
     "output_type": "stream",
     "text": [
      "Overwriting hello.py\n"
     ]
    }
   ],
   "source": [
    "%%writefile hello.py\n",
    "def say_hello(name):\n",
    "    print(f'Hello {name}')"
   ]
  },
  {
   "cell_type": "code",
   "execution_count": 11,
   "id": "fb244722",
   "metadata": {},
   "outputs": [
    {
     "name": "stdout",
     "output_type": "stream",
     "text": [
      "Hello John\n",
      "Hello Sam\n",
      "Hello Mat\n"
     ]
    }
   ],
   "source": [
    "import hello\n",
    "\n",
    "hello.say_hello('John')\n",
    "hello.say_hello('Sam')\n",
    "hello.say_hello('Mat')"
   ]
  },
  {
   "cell_type": "code",
   "execution_count": 13,
   "id": "5dbc46a6",
   "metadata": {},
   "outputs": [
    {
     "name": "stdout",
     "output_type": "stream",
     "text": [
      "Hello A\n",
      "Hello B\n",
      "Hello C\n"
     ]
    }
   ],
   "source": [
    "from hello import say_hello\n",
    "\n",
    "say_hello('A')\n",
    "say_hello('B')\n",
    "say_hello('C')"
   ]
  },
  {
   "cell_type": "code",
   "execution_count": 14,
   "id": "f74b7178",
   "metadata": {},
   "outputs": [
    {
     "name": "stdout",
     "output_type": "stream",
     "text": [
      "Hello X\n",
      "Hello Y\n",
      "Hello Z\n"
     ]
    }
   ],
   "source": [
    "from hello import *\n",
    "\n",
    "say_hello('X')\n",
    "say_hello('Y')\n",
    "say_hello('Z')\n"
   ]
  },
  {
   "cell_type": "code",
   "execution_count": 19,
   "id": "df353a63",
   "metadata": {},
   "outputs": [
    {
     "name": "stdout",
     "output_type": "stream",
     "text": [
      "Hello-2 John\n"
     ]
    }
   ],
   "source": [
    "from hello import say_hello as s1\n",
    "from hello2 import say_hello as s2\n",
    "\n",
    "s2('John')"
   ]
  },
  {
   "cell_type": "markdown",
   "id": "a383407c",
   "metadata": {},
   "source": [
    "#### Types in Python\n",
    "Immutable\n",
    "- int, float, bool, str, tuple, frozenset\n",
    "\n",
    "Mutable\n",
    "- list, set, dict"
   ]
  },
  {
   "cell_type": "code",
   "execution_count": 21,
   "id": "a150eea3",
   "metadata": {},
   "outputs": [
    {
     "name": "stdout",
     "output_type": "stream",
     "text": [
      "140146327618736\n",
      "140146329262256\n"
     ]
    }
   ],
   "source": [
    "# string is immutable\n",
    "\n",
    "s1 = 'Hello'\n",
    "\n",
    "print(id(s1))\n",
    "\n",
    "s1 = s1 + 'World'\n",
    "\n",
    "print(id(s1))"
   ]
  },
  {
   "cell_type": "markdown",
   "id": "c477e435",
   "metadata": {},
   "source": [
    "#### Working with lists\n",
    "- Ordered (items can be accessed through index)\n",
    "- Mutable\n",
    "- Can have heterogenous elements\n",
    "- Can be sliced"
   ]
  },
  {
   "cell_type": "code",
   "execution_count": 22,
   "id": "de2c2adc",
   "metadata": {},
   "outputs": [
    {
     "name": "stdout",
     "output_type": "stream",
     "text": [
      "0\n",
      "0\n"
     ]
    }
   ],
   "source": [
    "list1 = []\n",
    "list2 = list()\n",
    "\n",
    "print(len(list1))\n",
    "print(len(list2))"
   ]
  },
  {
   "cell_type": "code",
   "execution_count": 29,
   "id": "264fd38c",
   "metadata": {},
   "outputs": [
    {
     "name": "stdout",
     "output_type": "stream",
     "text": [
      "7\n"
     ]
    }
   ],
   "source": [
    "list1 = [1, 3, 5, 7, 9, 11, 13]\n",
    "print(len(list1))"
   ]
  },
  {
   "cell_type": "code",
   "execution_count": 25,
   "id": "8359fc7f",
   "metadata": {},
   "outputs": [
    {
     "data": {
      "text/plain": [
       "5"
      ]
     },
     "execution_count": 25,
     "metadata": {},
     "output_type": "execute_result"
    }
   ],
   "source": [
    "list1[2]"
   ]
  },
  {
   "cell_type": "code",
   "execution_count": 26,
   "id": "d3b5755e",
   "metadata": {},
   "outputs": [
    {
     "name": "stdout",
     "output_type": "stream",
     "text": [
      "[1, 3, 5, 7, 9, 11, 13]\n",
      "[1, 3, 100, 7, 9, 11, 13]\n"
     ]
    }
   ],
   "source": [
    "print(list1)\n",
    "list1[2] = 100\n",
    "print(list1)"
   ]
  },
  {
   "cell_type": "code",
   "execution_count": 30,
   "id": "7330c19c",
   "metadata": {},
   "outputs": [
    {
     "name": "stdout",
     "output_type": "stream",
     "text": [
      "140146478700352\n",
      "140146478700352\n"
     ]
    }
   ],
   "source": [
    "print(id(list1))\n",
    "list1.remove(9)\n",
    "print(id(list1))"
   ]
  },
  {
   "cell_type": "code",
   "execution_count": 36,
   "id": "def2a325",
   "metadata": {},
   "outputs": [
    {
     "data": {
      "text/plain": [
       "[1, 3.1415, False, 'Python', 100]"
      ]
     },
     "execution_count": 36,
     "metadata": {},
     "output_type": "execute_result"
    }
   ],
   "source": [
    "list1 = [1, 3.1415, False, 'Python', 100]\n",
    "\n",
    "list1"
   ]
  },
  {
   "cell_type": "code",
   "execution_count": 32,
   "id": "6563d7d1",
   "metadata": {
    "scrolled": true
   },
   "outputs": [
    {
     "name": "stdout",
     "output_type": "stream",
     "text": [
      "1\n",
      "3.1415\n",
      "False\n",
      "Python\n"
     ]
    }
   ],
   "source": [
    "for ele in list1:\n",
    "    print(ele)"
   ]
  },
  {
   "cell_type": "code",
   "execution_count": 37,
   "id": "e544264e",
   "metadata": {},
   "outputs": [
    {
     "name": "stdout",
     "output_type": "stream",
     "text": [
      "1\n",
      "3.1415\n",
      "100\n"
     ]
    }
   ],
   "source": [
    "for ele in list1:\n",
    "    if type(ele) in (int,float):\n",
    "        print(ele)"
   ]
  },
  {
   "cell_type": "code",
   "execution_count": 38,
   "id": "3125c347",
   "metadata": {},
   "outputs": [
    {
     "data": {
      "text/plain": [
       "1"
      ]
     },
     "execution_count": 38,
     "metadata": {},
     "output_type": "execute_result"
    }
   ],
   "source": [
    "list1 = [1, 3, 5, 7, 9, 11, 13]\n",
    "\n",
    "list1[0]"
   ]
  },
  {
   "cell_type": "code",
   "execution_count": 39,
   "id": "3018926b",
   "metadata": {},
   "outputs": [
    {
     "data": {
      "text/plain": [
       "13"
      ]
     },
     "execution_count": 39,
     "metadata": {},
     "output_type": "execute_result"
    }
   ],
   "source": [
    "list1[ len(list1)-1 ] # last element"
   ]
  },
  {
   "cell_type": "code",
   "execution_count": 43,
   "id": "e3831c6b",
   "metadata": {},
   "outputs": [
    {
     "data": {
      "text/plain": [
       "13"
      ]
     },
     "execution_count": 43,
     "metadata": {},
     "output_type": "execute_result"
    }
   ],
   "source": [
    "list1[-1] # last element"
   ]
  },
  {
   "cell_type": "code",
   "execution_count": 42,
   "id": "e0647119",
   "metadata": {},
   "outputs": [
    {
     "data": {
      "text/plain": [
       "11"
      ]
     },
     "execution_count": 42,
     "metadata": {},
     "output_type": "execute_result"
    }
   ],
   "source": [
    "list1[-2] # second last element"
   ]
  },
  {
   "cell_type": "code",
   "execution_count": 44,
   "id": "5ece4bd0",
   "metadata": {},
   "outputs": [
    {
     "data": {
      "text/plain": [
       "[1, 3, 5, 7, 9, 11, 13]"
      ]
     },
     "execution_count": 44,
     "metadata": {},
     "output_type": "execute_result"
    }
   ],
   "source": [
    "list1"
   ]
  },
  {
   "cell_type": "code",
   "execution_count": 45,
   "id": "9e5de322",
   "metadata": {},
   "outputs": [
    {
     "data": {
      "text/plain": [
       "[5, 7, 9, 11]"
      ]
     },
     "execution_count": 45,
     "metadata": {},
     "output_type": "execute_result"
    }
   ],
   "source": [
    "list2 = list1[2:6] # 2,3,4,5\n",
    "list2"
   ]
  },
  {
   "cell_type": "code",
   "execution_count": 46,
   "id": "57e55423",
   "metadata": {},
   "outputs": [
    {
     "data": {
      "text/plain": [
       "[5, 7, 9, 11, 13]"
      ]
     },
     "execution_count": 46,
     "metadata": {},
     "output_type": "execute_result"
    }
   ],
   "source": [
    "list1[2:] # from 2 till the last index"
   ]
  },
  {
   "cell_type": "code",
   "execution_count": 47,
   "id": "4e72a2d5",
   "metadata": {},
   "outputs": [
    {
     "data": {
      "text/plain": [
       "[1, 3, 5, 7, 9, 11]"
      ]
     },
     "execution_count": 47,
     "metadata": {},
     "output_type": "execute_result"
    }
   ],
   "source": [
    "list1[:6] # from 0 till stop-1"
   ]
  },
  {
   "cell_type": "code",
   "execution_count": 52,
   "id": "fbd71baa",
   "metadata": {},
   "outputs": [
    {
     "data": {
      "text/plain": [
       "True"
      ]
     },
     "execution_count": 52,
     "metadata": {},
     "output_type": "execute_result"
    }
   ],
   "source": [
    "fruits = ['apple', 'banana', 'apple', 'cherry', 'pineapple']\n",
    "\n",
    "'apple' in fruits"
   ]
  },
  {
   "cell_type": "code",
   "execution_count": 53,
   "id": "dfac0c9a",
   "metadata": {},
   "outputs": [
    {
     "data": {
      "text/plain": [
       "2"
      ]
     },
     "execution_count": 53,
     "metadata": {},
     "output_type": "execute_result"
    }
   ],
   "source": [
    "fruits.count('apple')"
   ]
  },
  {
   "cell_type": "code",
   "execution_count": 73,
   "id": "8342d8b6",
   "metadata": {},
   "outputs": [
    {
     "name": "stdout",
     "output_type": "stream",
     "text": [
      "apple occurs 2 time(s)\n",
      "apple occurs at [0, 2]\n"
     ]
    }
   ],
   "source": [
    "fruit_to_search = 'apple'\n",
    "\n",
    "if fruit_to_search in fruits:\n",
    "    count = fruits.count('apple')\n",
    "    print(fruit_to_search, 'occurs', count, 'time(s)')\n",
    "    indices = []\n",
    "    for i in range(0, len(fruits)):\n",
    "        if fruits[i] == fruit_to_search:\n",
    "            indices.append(i)\n",
    "    print(fruit_to_search, 'occurs at', indices)\n",
    "else:\n",
    "    print(fruit_to_search, 'does not exist')"
   ]
  },
  {
   "cell_type": "code",
   "execution_count": 74,
   "id": "2cf5d1b3",
   "metadata": {},
   "outputs": [
    {
     "name": "stdout",
     "output_type": "stream",
     "text": [
      "apple occurs 2 time(s)\n",
      "apple occurs at [0, 2]\n"
     ]
    }
   ],
   "source": [
    "if fruit_to_search in fruits:\n",
    "    count = fruits.count('apple')\n",
    "    print(fruit_to_search, 'occurs', count, 'time(s)')\n",
    "    indices = [i for i,ele in enumerate(fruits) if ele == fruit_to_search]\n",
    "    print(fruit_to_search, 'occurs at', indices)\n",
    "else:\n",
    "    print(fruit_to_search, 'does not exist')"
   ]
  },
  {
   "cell_type": "markdown",
   "id": "713a2b64",
   "metadata": {},
   "source": [
    "#### List comprehension"
   ]
  },
  {
   "cell_type": "code",
   "execution_count": 67,
   "id": "8571237e",
   "metadata": {},
   "outputs": [
    {
     "name": "stdout",
     "output_type": "stream",
     "text": [
      "[1, 2, 3, 4, 5, 6, 7, 8, 9, 10]\n",
      "[4, 16, 36, 64, 100]\n"
     ]
    }
   ],
   "source": [
    "list1 = [1,2,3,4,5,6,7,8,9,10]\n",
    "list2 = []\n",
    "\n",
    "for ele in list1:\n",
    "    if ele % 2 == 0:\n",
    "        list2.append(ele ** 2)\n",
    "    \n",
    "print(list1)\n",
    "print(list2)"
   ]
  },
  {
   "cell_type": "code",
   "execution_count": 66,
   "id": "7799cf6b",
   "metadata": {},
   "outputs": [
    {
     "name": "stdout",
     "output_type": "stream",
     "text": [
      "[1, 2, 3, 4, 5, 6, 7, 8, 9, 10]\n",
      "[4, 16, 36, 64, 100]\n"
     ]
    }
   ],
   "source": [
    "list1 = [1,2,3,4,5,6,7,8,9,10]\n",
    "\n",
    "list2 = [ele ** 2 for ele in list1 if ele % 2 == 0]\n",
    "\n",
    "print(list1)\n",
    "print(list2)"
   ]
  },
  {
   "cell_type": "code",
   "execution_count": 76,
   "id": "a32424e6",
   "metadata": {},
   "outputs": [
    {
     "data": {
      "text/plain": [
       "['apple', 'banana', 'apple', 'cherry', 'pineapple']"
      ]
     },
     "execution_count": 76,
     "metadata": {},
     "output_type": "execute_result"
    }
   ],
   "source": [
    "fruits"
   ]
  },
  {
   "cell_type": "code",
   "execution_count": 77,
   "id": "e0c9e1d2",
   "metadata": {},
   "outputs": [
    {
     "name": "stdout",
     "output_type": "stream",
     "text": [
      "0 --> apple\n",
      "1 --> banana\n",
      "2 --> apple\n",
      "3 --> cherry\n",
      "4 --> pineapple\n"
     ]
    }
   ],
   "source": [
    "for i,ele in enumerate(fruits):\n",
    "    print(i, '-->', ele)"
   ]
  },
  {
   "cell_type": "code",
   "execution_count": null,
   "id": "d0559368",
   "metadata": {},
   "outputs": [],
   "source": []
  }
 ],
 "metadata": {
  "kernelspec": {
   "display_name": "Python 3 (ipykernel)",
   "language": "python",
   "name": "python3"
  },
  "language_info": {
   "codemirror_mode": {
    "name": "ipython",
    "version": 3
   },
   "file_extension": ".py",
   "mimetype": "text/x-python",
   "name": "python",
   "nbconvert_exporter": "python",
   "pygments_lexer": "ipython3",
   "version": "3.11.5"
  }
 },
 "nbformat": 4,
 "nbformat_minor": 5
}
