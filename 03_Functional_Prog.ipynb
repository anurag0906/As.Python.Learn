{
 "cells": [
  {
   "cell_type": "markdown",
   "id": "d64cf3ab-9448-42bf-8e37-13be59e8ddf9",
   "metadata": {},
   "source": [
    "# Python functions\n",
    "- py func are 'First class' objects, i.e. created at runtime\n",
    "- can be assigned to a variable\n",
    "- can be passed as an argument to a func\n",
    "- can be returned froma func"
   ]
  },
  {
   "cell_type": "code",
   "execution_count": null,
   "id": "edb13324-3d47-404a-a036-757c97ce0835",
   "metadata": {},
   "outputs": [],
   "source": [
    "def say_hello(s):\n",
    "    return f'Hello {s}'\n",
    "\n",
    "\n",
    "def mydelegate(func,a):\n",
    "    result = func(a)\n",
    "    return result\n",
    "\n",
    "\n",
    "mydelegate(say_hello,'anurag')"
   ]
  },
  {
   "cell_type": "code",
   "execution_count": null,
   "id": "5888abee-1f19-469d-babd-509c58e63f52",
   "metadata": {},
   "outputs": [],
   "source": [
    "def say_hello(*s):    #passing N number of args\n",
    "    return f'Hello {\"\".join(s)}'   #string.Join\n",
    "\n",
    "def add(*args):\n",
    "    return sum(args)\n",
    "\n",
    "\n",
    "def mydelegate(func,a):\n",
    "    result = func(*a)\n",
    "    print(result)\n",
    "    \n",
    "\n",
    "mydelegate(say_hello,'anurag')\n",
    "print('.......')\n",
    "mydelegate(add,(1,2,3,4))"
   ]
  },
  {
   "cell_type": "markdown",
   "id": "a4150a98-dc11-4746-a5b9-536f95bf7b4d",
   "metadata": {},
   "source": [
    "# Lambda functions\n",
    "- lambda keywird creates an anonymous func\n",
    "- lambda accepts paramenetrs\n",
    "- lambda body is made up of an expression(only one expression)\n",
    "- will return the expression and evaluate result"
   ]
  },
  {
   "cell_type": "code",
   "execution_count": null,
   "id": "a4685410-581f-4603-a694-5fcd0eada7d0",
   "metadata": {},
   "outputs": [],
   "source": [
    "(lambda num: 'you entered ' + str(num))(555)\n"
   ]
  },
  {
   "cell_type": "code",
   "execution_count": null,
   "id": "fd79e6eb-3776-45a0-92eb-cbbd5d5d54e0",
   "metadata": {},
   "outputs": [],
   "source": [
    "mysqrt = lambda num: num*num\n",
    "\n",
    "print(mysqrt(4))"
   ]
  },
  {
   "cell_type": "code",
   "execution_count": null,
   "id": "80b5d258-358c-4f4a-bf1b-eed01d6cf281",
   "metadata": {},
   "outputs": [],
   "source": [
    "print( (lambda num1, num2: num1+num2)(3,9))"
   ]
  },
  {
   "cell_type": "code",
   "execution_count": null,
   "id": "f253abf2-5c7d-42e0-9468-5bb498aeb049",
   "metadata": {},
   "outputs": [],
   "source": [
    "(lambda *num2: sum(num2))(3,9,22,33)  #any number of input parameters"
   ]
  },
  {
   "cell_type": "markdown",
   "id": "565831fb-3e50-4915-bba0-b69582687788",
   "metadata": {},
   "source": [
    "## High order function\n",
    "- a func that takes another func as arg\n",
    "- map()\n",
    "- filer()\n",
    "- reduce()...."
   ]
  },
  {
   "cell_type": "markdown",
   "id": "4b993a85-0755-4b5f-a5c3-54f4155e5ee3",
   "metadata": {},
   "source": [
    "# Map()\n",
    "- to apply transformation to the input element\n",
    "- takes func as first args and iterable as second argument\n",
    "- argument func is invoked for each item in collection and returns the transformed values as a sequence\n",
    "- Syntax--> map(func, iterable)\n",
    "- number of output ele is same as number of input ele\n",
    "- USE MAP TO EXECUTE A LOGIC ON EVERY ELEMENT OF A COLLECTION"
   ]
  },
  {
   "cell_type": "code",
   "execution_count": null,
   "id": "29107bed-340e-412e-b806-6a1d20e7cf91",
   "metadata": {},
   "outputs": [],
   "source": [
    "list1=[1,2,3,4,5,6,7,8,9,10]\n",
    "list2=[*range(1,11)]    # use * to unpack a list- list compression\n",
    "list3= list(range(1,11))\n",
    "\n",
    "print(list1)\n",
    "print(list2)\n",
    "print(list3)"
   ]
  },
  {
   "cell_type": "code",
   "execution_count": null,
   "id": "3412a7b6-e678-4033-bc66-a3be6b358b24",
   "metadata": {},
   "outputs": [],
   "source": [
    "list1=[1,2,3,4,5,6,7,8,9,10]\n",
    "\n",
    "list2= list(map(mysqrt,list1))\n",
    "print(list1)\n",
    "print(list2)"
   ]
  },
  {
   "cell_type": "code",
   "execution_count": null,
   "id": "e624127d-edd4-485d-8589-7181764cfa7a",
   "metadata": {},
   "outputs": [],
   "source": [
    "#3 times\n",
    "print(list(map((lambda num: num + num + num),[10,20])))"
   ]
  },
  {
   "cell_type": "code",
   "execution_count": null,
   "id": "1bb99ef3-51dc-422c-b985-2ed117f6220b",
   "metadata": {},
   "outputs": [],
   "source": [
    "#multiple parameter lambda\n",
    "list11=[1,2,3,4,5,6,7,8,9,10]\n",
    "list22=[10,20,30,40,50,60,70,80,90]\n",
    "\n",
    "result = list(map((lambda x,y: x+y),list11,list22))\n",
    "print(result)"
   ]
  },
  {
   "cell_type": "markdown",
   "id": "7a054f74-aa91-4ec3-9273-b3daffd676ed",
   "metadata": {},
   "source": [
    "# reduce()\n",
    "- produce a single result from a sequence of any number of items\n",
    "- Syntax --> reduce(func, iterable)\n",
    "- part of a module called as 'functools'"
   ]
  },
  {
   "cell_type": "code",
   "execution_count": null,
   "id": "6c26579d-8311-49af-a01e-d9e04e6d0e04",
   "metadata": {},
   "outputs": [],
   "source": [
    "from functools import reduce\n",
    "add =lambda a,b: a+b\n",
    "list1=[1,2,3,4,5]\n",
    "print(reduce(add,list1))\n"
   ]
  },
  {
   "cell_type": "code",
   "execution_count": null,
   "id": "d7d8fce8-a8e1-4923-ab47-3aeeedb12597",
   "metadata": {},
   "outputs": [],
   "source": [
    "#assingment-find smalles number in the list\n",
    "\n",
    "list2=[11,7,9,5,13,9]\n",
    "\n",
    "def smaller(a,b):\n",
    "    if a<b:\n",
    "        return a\n",
    "    else:\n",
    "        return b\n",
    "\n",
    "greater = lambda a,b: a if a>b else b\n",
    "\n",
    "print(reduce(smaller,list2))\n",
    "print(reduce(greater,list2))"
   ]
  },
  {
   "cell_type": "markdown",
   "id": "d00c8246-c5c0-46fd-bb7f-bae9252b61e6",
   "metadata": {},
   "source": [
    "# filter() func\n",
    "- is used to eleminate unwanted values\n",
    "- syntax --> filter (func, iterable)\n",
    "- always return BOOLEAN value\n",
    "- items from iterable are passed to the func (one at a time)\n",
    "- output sequence containes those elements for which the function returns True\n",
    "- number of output elements may not be same as that of input ele\n",
    "- map() transforms, where as filter() selectively picks based on filter logic"
   ]
  },
  {
   "cell_type": "code",
   "execution_count": null,
   "id": "6fff5e21-7c3b-4e97-938e-47fe1c989ba3",
   "metadata": {},
   "outputs": [],
   "source": [
    "#return even list\n",
    "list1=[1,2,3,4,5,6,7,8,9,10]\n",
    "\n",
    "is_even = lambda num: num%2==0\n",
    "\n",
    "resultlist= list(filter(is_even,list1))\n",
    "print(resultlist)"
   ]
  },
  {
   "cell_type": "markdown",
   "id": "24b79103-6375-410d-82d3-1f5381eb296f",
   "metadata": {},
   "source": [
    "Assignment-\n",
    "s='it's a beautiful day out there'\n",
    "\n",
    "extract unique vouvls"
   ]
  },
  {
   "cell_type": "code",
   "execution_count": null,
   "id": "e43d72fe-7457-479e-a6ec-9c6604b1e828",
   "metadata": {},
   "outputs": [],
   "source": [
    "s='it is a beautiful day out there'\n",
    "\n",
    "voList=['a','e','i','o','u']\n",
    "\n",
    "is_Vowel = lambda ch : ch in 'aeiouAEIOU'\n",
    "\n",
    "result= set(filter(is_Vowel,s))  #fetch unique elements only- use set\n",
    "print(result)"
   ]
  },
  {
   "cell_type": "code",
   "execution_count": null,
   "id": "45efc8c3-ac7e-445c-a479-b464de6048ab",
   "metadata": {},
   "outputs": [],
   "source": [
    "#extract digits\n",
    "\n",
    "s='Py20th24on'\n",
    "is_digit1= lambda ch : ch.isdigit()\n",
    "\n",
    "print(tuple(filter(is_digit1,s)))"
   ]
  },
  {
   "cell_type": "code",
   "execution_count": 4,
   "id": "fef7e7be-695f-4127-8683-80e0e36e984a",
   "metadata": {},
   "outputs": [
    {
     "ename": "TypeError",
     "evalue": "'bool' object is not iterable",
     "output_type": "error",
     "traceback": [
      "\u001b[1;31m---------------------------------------------------------------------------\u001b[0m",
      "\u001b[1;31mTypeError\u001b[0m                                 Traceback (most recent call last)",
      "Cell \u001b[1;32mIn[4], line 11\u001b[0m\n\u001b[0;32m      8\u001b[0m     \u001b[38;5;28;01mfor\u001b[39;00m s \u001b[38;5;129;01min\u001b[39;00m string_to_choose:\n\u001b[0;32m      9\u001b[0m         \u001b[38;5;28;01mreturn\u001b[39;00m \u001b[38;5;28many\u001b[39m(s \u001b[38;5;129;01min\u001b[39;00m \u001b[38;5;28minput\u001b[39m)\n\u001b[1;32m---> 11\u001b[0m \u001b[38;5;28mprint\u001b[39m(\u001b[38;5;28mlist\u001b[39m(\u001b[43mcontain_string\u001b[49m\u001b[43m(\u001b[49m\u001b[43mstring_to_choose\u001b[49m\u001b[43m)\u001b[49m))\n",
      "Cell \u001b[1;32mIn[4], line 9\u001b[0m, in \u001b[0;36mcontain_string\u001b[1;34m(input)\u001b[0m\n\u001b[0;32m      7\u001b[0m \u001b[38;5;28;01mdef\u001b[39;00m \u001b[38;5;21mcontain_string\u001b[39m(\u001b[38;5;28minput\u001b[39m):\n\u001b[0;32m      8\u001b[0m     \u001b[38;5;28;01mfor\u001b[39;00m s \u001b[38;5;129;01min\u001b[39;00m string_to_choose:\n\u001b[1;32m----> 9\u001b[0m         \u001b[38;5;28;01mreturn\u001b[39;00m \u001b[38;5;28;43many\u001b[39;49m\u001b[43m(\u001b[49m\u001b[43ms\u001b[49m\u001b[43m \u001b[49m\u001b[38;5;129;43;01min\u001b[39;49;00m\u001b[43m \u001b[49m\u001b[38;5;28;43minput\u001b[39;49m\u001b[43m)\u001b[49m\n",
      "\u001b[1;31mTypeError\u001b[0m: 'bool' object is not iterable"
     ]
    }
   ],
   "source": [
    "s1=['class','class-1','class-2','town-1','town-2','city-1','city-2']\n",
    "string_to_choose=['class','city']\n",
    "\n",
    "list1=[False, False, True,True]\n",
    "any(list1)\n",
    "\n",
    "def contain_string(input):\n",
    "    for s in string_to_choose:\n",
    "        return any(s in input)\n",
    "\n",
    "print(list(contain_string(string_to_choose)))"
   ]
  },
  {
   "cell_type": "code",
   "execution_count": null,
   "id": "57b7741c-d9b3-4628-997b-e8885720aa64",
   "metadata": {},
   "outputs": [],
   "source": []
  },
  {
   "cell_type": "code",
   "execution_count": null,
   "id": "5b08e17f-9c9f-4d0c-9ca9-1af3dcc7e934",
   "metadata": {},
   "outputs": [],
   "source": []
  }
 ],
 "metadata": {
  "kernelspec": {
   "display_name": "Python 3 (ipykernel)",
   "language": "python",
   "name": "python3"
  },
  "language_info": {
   "codemirror_mode": {
    "name": "ipython",
    "version": 3
   },
   "file_extension": ".py",
   "mimetype": "text/x-python",
   "name": "python",
   "nbconvert_exporter": "python",
   "pygments_lexer": "ipython3",
   "version": "3.12.1"
  }
 },
 "nbformat": 4,
 "nbformat_minor": 5
}
