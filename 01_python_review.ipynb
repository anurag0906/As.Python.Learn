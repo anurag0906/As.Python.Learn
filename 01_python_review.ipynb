{
 "cells": [
  {
   "cell_type": "markdown",
   "id": "dae92baf-7e89-4694-a68d-d675acf8f2c8",
   "metadata": {},
   "source": [
    "pip install jupyterlab"
   ]
  },
  {
   "cell_type": "markdown",
   "id": "febb2d53-dbe5-4446-93ac-59ee0a930f78",
   "metadata": {},
   "source": [
    "To Run notebook in VSCode- jupyter labb\r\n"
   ]
  },
  {
   "cell_type": "code",
   "execution_count": null,
   "id": "a620088e-bc41-43f5-a27e-e256acc240da",
   "metadata": {},
   "outputs": [],
   "source": [
    "s='this is a text'\n",
    "\n",
    "b='another line'\n",
    "\n",
    "s+ b\n",
    "\n",
    "print(b)"
   ]
  },
  {
   "cell_type": "code",
   "execution_count": null,
   "id": "30fd9525-1726-4ba1-97d7-102d2f17a152",
   "metadata": {},
   "outputs": [],
   "source": [
    "a=10\n",
    "b=20\n",
    "print(a + b)"
   ]
  },
  {
   "cell_type": "code",
   "execution_count": null,
   "id": "35f28c16-0647-4170-b843-8b47487fc12f",
   "metadata": {},
   "outputs": [],
   "source": [
    "###class and type\n",
    "\n",
    "x= 10\n",
    "print(type(x))\n",
    "\n",
    "x= 'test'\n",
    "print(type(x))\n",
    "\n",
    "x= True\n",
    "print(type(x))"
   ]
  },
  {
   "cell_type": "code",
   "execution_count": null,
   "id": "9c7fecf4-6d48-4fc9-b62e-ccbfd172a521",
   "metadata": {},
   "outputs": [],
   "source": [
    "### type conversion\n",
    "\n",
    "x =10\n",
    "y= \"10\"\n",
    "z = x + int(y)\n",
    "print(z)\n",
    "\n",
    "### string conversion\n",
    "z = str(10) + y\n",
    "print(z)\n",
    "\n"
   ]
  },
  {
   "cell_type": "code",
   "execution_count": null,
   "id": "b4af3608-a295-4da7-aa1e-f193e65b654c",
   "metadata": {},
   "outputs": [],
   "source": [
    "## Control statements\n",
    "num= input('enter a number')\n",
    "#input returns a str\n",
    "\n",
    "num= int(num)\n",
    "\n",
    "if num>0:\n",
    "    print(num, 'positive number')\n",
    "elif num==0:\n",
    "    print(num, 'is zero')\n",
    "else:\n",
    "    print(num, 'negative')\n"
   ]
  },
  {
   "cell_type": "code",
   "execution_count": 2,
   "id": "0b3f08cc-9baf-4866-abad-8499b5458f17",
   "metadata": {},
   "outputs": [
    {
     "name": "stdout",
     "output_type": "stream",
     "text": [
      "['False', 'None', 'True', 'and', 'as', 'assert', 'async', 'await', 'break', 'class', 'continue', 'def', 'del', 'elif', 'else', 'except', 'finally', 'for', 'from', 'global', 'if', 'import', 'in', 'is', 'lambda', 'nonlocal', 'not', 'or', 'pass', 'raise', 'return', 'try', 'while', 'with', 'yield']\n",
      " total count-  35\n"
     ]
    }
   ],
   "source": [
    "### number of keywords in python\n",
    "\n",
    "import keyword\n",
    "print(keyword.kwlist)\n",
    "print(' total count- ',len(keyword.kwlist)) "
   ]
  },
  {
   "cell_type": "code",
   "execution_count": null,
   "id": "fda8843b-424c-4df8-b679-d32abce6b5ae",
   "metadata": {},
   "outputs": [],
   "source": [
    "#assignment\n",
    "\n",
    "mth = input('enter a month between 1-12:')\n",
    "if mth.isnumeric():\n",
    "    mthnum= int(mth)\n",
    "else:\n",
    "    print('enter numeric value')\n",
    "\n",
    "if mthnum>=1 and mthnum <=3:\n",
    "    print('First quarter')\n",
    "elif mthnum>=4 and mthnum <=6:\n",
    "    print('second quarter')\n",
    "elif mthnum>=7 and mthnum <=9:\n",
    "    print('third quarter')\n",
    "elif mthnum>=7 and mthnum <=9:\n",
    "    print('fourth quarter')\n",
    "else :\n",
    "    print('enter valid number')"
   ]
  },
  {
   "cell_type": "code",
   "execution_count": null,
   "id": "f9b065d2-3c4c-4a67-8853-6ea253c48616",
   "metadata": {},
   "outputs": [],
   "source": [
    "\n",
    "mth = input('enter a month between 1-12:')\n",
    "if mth.isnumeric():\n",
    "    mthnum= int(mth)\n",
    "else:\n",
    "    print('enter numeric value')\n",
    "\n",
    "\n",
    "if mthnum in (1,2,3):\n",
    "    print('First quarter')\n",
    "elif mthnum in (4,5,6):\n",
    "    print('second quarter')\n",
    "elif mthnum in (7,8,9):\n",
    "    print('third quarter')\n",
    "elif mthnum in (10,11,12):\n",
    "    print('fourth quarter')\n",
    "else :\n",
    "    print('enter valid number')\n",
    "    "
   ]
  },
  {
   "cell_type": "code",
   "execution_count": null,
   "id": "aa029ef3-b14e-423f-896e-49d973a395ce",
   "metadata": {},
   "outputs": [],
   "source": [
    "\n",
    "mth = input('enter a month between 1-12:')\n",
    "if mth.isnumeric():\n",
    "    mth = int(mth)\n",
    "    match mth:\n",
    "        case 1|2|3:\n",
    "            print('first Q')\n",
    "        case 4|5|6:\n",
    "            print('second Q')\n",
    "        case 7|8|9:\n",
    "            print('thrid Q')\n",
    "        case 10|11|12:\n",
    "            print('Fourth q')\n",
    "        case _:\n",
    "            print('default')\n",
    "else:\n",
    "    print('enter numeric value')\n",
    "\n"
   ]
  },
  {
   "cell_type": "code",
   "execution_count": null,
   "id": "08a72317-7aa3-403a-8968-d4e753949931",
   "metadata": {},
   "outputs": [],
   "source": [
    "### iterative statements\n",
    "\n",
    "for i in range(5):  #from 0 to stop-1 \n",
    "    print(i)\n",
    "print('##################')\n",
    "for i in range(1,10,2): #from start to stop-1, skip 2 \n",
    "    print(i)\n",
    "print('##################')\n",
    "\n",
    "for i in range(5,1,-1): #reverse loop, skip 2 \n",
    "    print(i, end='')\n",
    "print('reverse loop ends')\n",
    "\n",
    "mylist=[10,20,30]\n",
    "for i in mylist:\n",
    "    print(i, end='\\t')  #print in same line after a gap of a tab\n",
    "\n",
    "s1= 'I like Python'\n",
    "for ch in s1:\n",
    "    if ch== 't':\n",
    "        break\n",
    "    print(ch, end='') #break iteration and print horizontally"
   ]
  },
  {
   "cell_type": "code",
   "execution_count": null,
   "id": "dd8942f6-f76a-4666-b40f-ca2fabafb47c",
   "metadata": {},
   "outputs": [],
   "source": [
    "# working with function\n",
    "\n",
    "def add(a,b):\n",
    "    sum =a+b\n",
    "    return sum\n",
    "\n",
    "a=10\n",
    "b=20\n",
    "result =add(a,b)\n",
    "print('result: {}'.format(result))\n",
    "print('sum of %d and %d = %d' %(a,b,result))\n",
    "print(f'Sum of {a} and {b} is {result}')   #formatted string-F"
   ]
  },
  {
   "cell_type": "markdown",
   "id": "611e1470-9915-4fa2-80d6-11beb11b9328",
   "metadata": {},
   "source": [
    "Variable scope"
   ]
  },
  {
   "cell_type": "code",
   "execution_count": null,
   "id": "70108764-c22c-455f-8817-0029403e2740",
   "metadata": {},
   "outputs": [],
   "source": [
    "a=10\n",
    "def myfunc():\n",
    "    global b    #make this local variable global\n",
    "    b=20\n",
    "    print('........func begin...........')\n",
    "    print(f'print a= {a}')\n",
    "    print(f'print b= {b}')\n",
    "    print('........func end...........')\n",
    "\n",
    "b=30\n",
    "print('a=',a)\n",
    "print('b=',b)\n",
    "myfunc()\n",
    "print('a=',a)\n",
    "print('b=',b)\n"
   ]
  },
  {
   "cell_type": "markdown",
   "id": "39d39b5d-05d1-4a6d-abec-2549ec1838ef",
   "metadata": {},
   "source": [
    "# Module and File seperation"
   ]
  },
  {
   "cell_type": "code",
   "execution_count": null,
   "id": "80297eda-0312-4cfe-9ca6-ce4cde1ce8b0",
   "metadata": {},
   "outputs": [],
   "source": [
    "%%writefile myhello.py\n",
    "def say_hello(name):\n",
    "    print(f'hello- {name}')"
   ]
  },
  {
   "cell_type": "markdown",
   "id": "3d9d8e28-0bcf-4798-8b88-f3eb9b64c420",
   "metadata": {},
   "source": [
    "# call a code from other module"
   ]
  },
  {
   "cell_type": "code",
   "execution_count": null,
   "id": "219100e8-d7f6-4ce6-a4e9-4276b134e340",
   "metadata": {},
   "outputs": [],
   "source": [
    "import myhello\n",
    "myhello.say_hello('x')\n",
    "myhello.say_hello('y')"
   ]
  },
  {
   "cell_type": "code",
   "execution_count": null,
   "id": "9f7470f0-b093-4ec6-858c-1d2d53053503",
   "metadata": {},
   "outputs": [],
   "source": [
    "%%writefile myhello2.py\n",
    "def say_hello(name):\n",
    "    print(f'hello-2 {name}')"
   ]
  },
  {
   "cell_type": "code",
   "execution_count": null,
   "id": "a94d0d82-8a10-4120-9db3-0dd2c0f8ffb3",
   "metadata": {},
   "outputs": [],
   "source": [
    "from myhello import say_hello  #from file myhello import say_hello member\n",
    "from myhello2 import say_hello as s2 #import a member\n",
    "myhello.say_hello('x')\n",
    "s2('y')"
   ]
  },
  {
   "cell_type": "markdown",
   "id": "4c5d76cf-f7a3-460b-9267-57300f3af57e",
   "metadata": {},
   "source": [
    "# Mutable and Immutables\n",
    "## immutable\n",
    "- int, string, float, tuple, frozen\n",
    "\n",
    "## mutable\n",
    "- list, set, dict"
   ]
  },
  {
   "cell_type": "code",
   "execution_count": null,
   "id": "9b0b31f7-0348-47eb-9c82-79f4b4e2ef4a",
   "metadata": {},
   "outputs": [],
   "source": [
    "#string is immutable\n",
    "s1='hello'\n",
    "print(id(s1))  #memory address\n",
    "\n",
    "s1= s1+ 'world'\n",
    "print(id(s1))"
   ]
  },
  {
   "cell_type": "markdown",
   "id": "db1cd6b6-a427-4445-b957-167047c897fc",
   "metadata": {},
   "source": [
    "# Working with List\n",
    "- ordered\n",
    "- mutable\n",
    "- can have hetrogenous elements\n",
    "- can be sliced"
   ]
  },
  {
   "cell_type": "code",
   "execution_count": null,
   "id": "cb03ec12-b226-4597-915e-8432276ed5c7",
   "metadata": {},
   "outputs": [],
   "source": [
    "list1=[]\n",
    "list2= list()\n",
    "print(len(list1))\n",
    "print(len(list2))\n",
    "print('.................')\n",
    "\n",
    "list1=[1,2,3,4,5]\n",
    "print(list1[3])\n",
    "list2=list1   # point to list 1\n",
    "list2[3]=100   # override a index\n",
    "print(list2)\n",
    "\n",
    "#add/remove\n",
    "list1=[1,2, 44.11122, True, 'Python']\n",
    "print(list1)\n",
    "list1.remove(2)\n",
    "print(list1)\n",
    "\n",
    "    "
   ]
  },
  {
   "cell_type": "code",
   "execution_count": null,
   "id": "0ce73c7a-b220-48e7-92a8-7010cc1cdf31",
   "metadata": {},
   "outputs": [],
   "source": [
    "list1=[1,2,False, 44.11122, True, 'Python']\n",
    "\n",
    "#iterate on a list\n",
    "for ele in list1:\n",
    "    if  type(ele) in (int, float):\n",
    "        print(f'intg-{ele}')"
   ]
  },
  {
   "cell_type": "code",
   "execution_count": null,
   "id": "a7ff725f-6c1d-4d0d-b31a-3fd91dca8f1a",
   "metadata": {},
   "outputs": [],
   "source": [
    "#second last element\n",
    "print(list1[-1])\n",
    "\n",
    "#slice a list\n",
    "list2=list1[2:5] #from second index, till 5th index\n",
    "print(list2)\n",
    "\n",
    "list2=list1[2:] #from second index,till last\n",
    "print(list2)"
   ]
  },
  {
   "cell_type": "code",
   "execution_count": null,
   "id": "a08cc4dc-7c19-4ab8-8d65-90d2a5f86611",
   "metadata": {},
   "outputs": [],
   "source": [
    "fruits=['apple', 'banana','apple', 'cherry', 'pineapple', 'blackberry']\n",
    "print(fruits)\n",
    "\n",
    "#find count and index\n",
    "fruit_to_search='apple'\n",
    "if fruit_to_search in fruits:\n",
    "    count= fruits.count(fruit_to_search)\n",
    "    print('number of apples', count)\n",
    "    appleIndex=[]\n",
    "    \n",
    "    for i in range (0, len(fruits)):\n",
    "        if fruits[i] == fruit_to_search:\n",
    "            appleIndex.append(i)\n",
    "    print('index of fruits', appleIndex)\n",
    "else:\n",
    "    print(fruit_to_search, 'not found')"
   ]
  },
  {
   "cell_type": "markdown",
   "id": "9cf34351-ac30-4f50-99ac-ad2c294b3e56",
   "metadata": {},
   "source": [
    "# List compression"
   ]
  },
  {
   "cell_type": "code",
   "execution_count": null,
   "id": "b751a0ab-d9a1-4a88-ac6a-e5c45738f151",
   "metadata": {},
   "outputs": [],
   "source": [
    "list1=[1,2,3,4,5,6]\n",
    "list2=[]\n",
    "\n",
    "for ele in list1:\n",
    "    list2.append(ele*2)\n",
    "\n",
    "print(list1)\n",
    "print(list2)\n",
    "\n",
    "list2 =[ele*2 for ele in list1]  #shortcut\n",
    "print(list2)\n"
   ]
  },
  {
   "cell_type": "markdown",
   "id": "e461584a-6093-43e3-9916-3d87697cefcc",
   "metadata": {},
   "source": [
    "# Enumerator"
   ]
  },
  {
   "cell_type": "code",
   "execution_count": null,
   "id": "7ccaf87a-4dff-418d-bb3a-7911e6b6e1f6",
   "metadata": {},
   "outputs": [],
   "source": [
    "for ele in enumerate(fruits):\n",
    "    print(ele)"
   ]
  },
  {
   "cell_type": "code",
   "execution_count": null,
   "id": "5ed4aed0-8f06-4523-9e8d-da8cd396c7d6",
   "metadata": {},
   "outputs": [],
   "source": [
    "fruits=['apple', 'banana','apple', 'cherry', 'pineapple', 'blackberry']\n",
    "fruit_search='apple'\n",
    "\n",
    "if fruit_search in fruits:\n",
    "    for ele in fruits:   # here ele is the element, not index\n",
    "        print(ele)\n",
    "        #print(fruits[ele])   this will error out, since index should be a int\n",
    "else:\n",
    "    print('fruit not found')\n",
    "\n",
    "print('.................')\n",
    "\n",
    "if fruit_search in fruits:\n",
    "    for ele in enumerate(fruits):   # here ele has index and element\n",
    "        print(ele)\n",
    "else:\n",
    "    print('fruit not found')\n",
    "\n"
   ]
  },
  {
   "cell_type": "markdown",
   "id": "75681d23-5306-4824-82d5-c9f12122371c",
   "metadata": {},
   "source": [
    "# Working with Tuples\n",
    "- tuple is immutable\n",
    "- get element by index\n",
    "- can iterate\n",
    "- list is mutable\n",
    "- since tuple does not have methods to change it, it is faster and lightweight"
   ]
  },
  {
   "cell_type": "code",
   "execution_count": 1,
   "id": "a85929f7-c153-48fc-9a2b-dfbaf332b162",
   "metadata": {},
   "outputs": [
    {
     "name": "stdout",
     "output_type": "stream",
     "text": [
      "0\n",
      "<class 'tuple'>\n",
      "0\n",
      "..................................\n",
      "<class 'int'>\n",
      "<class 'tuple'>\n"
     ]
    }
   ],
   "source": [
    "tuple1=()\n",
    "tuple2= tuple()\n",
    "print (len(tuple1))\n",
    "print(type(tuple1))\n",
    "print (len(tuple2))\n",
    "print('..................................')\n",
    "\n",
    "tuple1=(1)\n",
    "print(type(tuple1))\n",
    "tuple1=(1,2,3,4,5)\n",
    "print(type(tuple1))"
   ]
  },
  {
   "cell_type": "code",
   "execution_count": null,
   "id": "02e71367-cc0e-4229-9322-e701a33d7d26",
   "metadata": {},
   "outputs": [],
   "source": [
    "tuple1 =(1,2,3,(4,5,6))\n",
    "previous= tuple[0:3]\n",
    "print(f'previous- {previous}')\n",
    "newTuple=tuple(tuple1[3])\n",
    "print(newTuple)\n",
    "anothertuple = tuple(newTuple)\n"
   ]
  },
  {
   "cell_type": "markdown",
   "id": "8a9c82b2-921e-4234-b1db-76a05e864d4a",
   "metadata": {},
   "source": [
    "# Working with set\n",
    "- un-ordered list\n",
    "- does not gurante the order or newly added element\n",
    "- mutable\n",
    "- can be a hetrogenous\n",
    "- can be sliced\n",
    "- BUT does NOT allow DUPLICATE\n",
    "\n",
    "- list---> []\n",
    "- tuple--> ()\n",
    "- set --> {}   set cannot be empty\n",
    "- dictonary --> {}"
   ]
  },
  {
   "cell_type": "code",
   "execution_count": null,
   "id": "d2ed8526-dd2d-4726-96cf-7ebcf6a4ffcf",
   "metadata": {},
   "outputs": [],
   "source": [
    "set1={1}\n",
    "print(set1)\n",
    "print(type(set1))\n",
    "set2={4,77,33,5,1,3,4}\n",
    "print(set2)  # will not print duplicate, will print unordered list\n",
    "\n",
    "set2.add('one more hetro element')\n",
    "print(set2)\n",
    "set2.remove(3)  #remove by element, not index\n",
    "print(set2)\n",
    "set2.discard(3)  #if element not exist 'remove' raises error so use 'discard'\n",
    "print(set2)\n",
    "set2.add(4)  #add a duplicate, but will not get added, no error\n",
    "print(set2)\n",
    "\n",
    "set2.update((10,1,3,20,30))\n",
    "print(set2)"
   ]
  },
  {
   "cell_type": "markdown",
   "id": "be7aa1b8-74fe-475c-b164-956ca363d00b",
   "metadata": {},
   "source": [
    "# Frozenset is immutable"
   ]
  },
  {
   "cell_type": "code",
   "execution_count": null,
   "id": "f1a9a313-550d-4638-94db-c226b84ce774",
   "metadata": {},
   "outputs": [],
   "source": [
    "set1={4,77,33,5,1,3,4}\n",
    "print(set1) \n",
    "myfrozenset= frozenset(set1)\n",
    "print(myfrozenset)\n",
    "#myfrozenset.add(2) # will throw error\n"
   ]
  },
  {
   "cell_type": "markdown",
   "id": "4f60bd11-f307-4040-83b3-58e5d25c8098",
   "metadata": {},
   "source": [
    "# Remove duplicate from a list"
   ]
  },
  {
   "cell_type": "code",
   "execution_count": null,
   "id": "c08a4896-614e-464c-ac8e-f16667cab465",
   "metadata": {},
   "outputs": [],
   "source": [
    "list1=[1,2,3,4,5,3,2,1]\n",
    "print(list1)\n",
    "\n",
    "list1=list(set(list1)) #remove duplicate\n",
    "print(list1)\n"
   ]
  },
  {
   "cell_type": "markdown",
   "id": "2eeda669-1079-4b54-b3e1-15818731c8d8",
   "metadata": {},
   "source": [
    "# Write a function which takes str as para , display the word and their frequency"
   ]
  },
  {
   "cell_type": "code",
   "execution_count": null,
   "id": "9fc6ff45-c51e-4901-9aa3-cef3ea4746fe",
   "metadata": {},
   "outputs": [],
   "source": [
    "def duplicateCheck(sentence):\n",
    "    print(f'you entered- {sentence}')\n",
    "    word_list= sentence.split()\n",
    "    print(f'word_list -{word_list}')        \n",
    "    unique_words=set(word_list)\n",
    "    print(f'unique word - {unique_words}')  \n",
    "\n",
    "    for word in unique_words:\n",
    "        print(word, '--', word_list.count(word))\n",
    "\n",
    "\n",
    "data ='I like Python . Python is unique.'\n",
    "duplicateCheck(data)"
   ]
  },
  {
   "cell_type": "markdown",
   "id": "59120ed2-8344-4d00-b04b-197d5f2665fe",
   "metadata": {},
   "source": [
    "# Working with Dictionary\n",
    "- un-ordered till python 3.6\n",
    "- key-value pair\n",
    "- key need to be unique and immitable\n",
    "- value can be mutable"
   ]
  },
  {
   "cell_type": "code",
   "execution_count": null,
   "id": "e0fc572b-df86-4120-965a-b62447f41cea",
   "metadata": {},
   "outputs": [],
   "source": [
    "dict1={}\n",
    "print(type(dict1))"
   ]
  },
  {
   "cell_type": "code",
   "execution_count": null,
   "id": "7b14d35f-66e7-431d-8e6a-73997b633902",
   "metadata": {},
   "outputs": [],
   "source": [
    "dict1={'key1':'someval',\"Age\":123, \"phone\":1111222333}\n",
    "print(dict1)\n",
    "print(dict1['Age'])\n",
    "dict1[\"newkey3\"]=456   #add a new KV\n",
    "print(dict1)\n",
    "print(dict1.get('newkey'))   # if key does not exits, no exception, return none\n",
    "\n",
    "print(dict1.get('newkey', 'my default return value'))   # if key does not exits, no exception, return none\n",
    "\n",
    "print(dict1.keys())   # get all keys\n",
    "print(dict1.values())   # all values\n",
    "print(f'all tuples in dict - {dict1.items()}')   # each item is a tuple in a dictionary"
   ]
  },
  {
   "cell_type": "markdown",
   "id": "97709f76-16c3-48ab-855f-7d2a5ff63bb0",
   "metadata": {},
   "source": [
    "# Tuple unpacking"
   ]
  },
  {
   "cell_type": "code",
   "execution_count": null,
   "id": "fa91c82b-249e-46f3-a4e0-9fb57220299f",
   "metadata": {},
   "outputs": [],
   "source": [
    "tuple1=(10,20,30)\n",
    "a,b,c=tuple1\n",
    "print(a)\n",
    "print(b)"
   ]
  },
  {
   "cell_type": "code",
   "execution_count": null,
   "id": "baa36610-6810-4a6e-9a0d-7e70fc1c35cc",
   "metadata": {},
   "outputs": [],
   "source": [
    "dict1={'key1':'someval',\"Age\":123, \"phone\":1111222333}\n",
    "for key,value in dict1.items(): #each item is a tuple\n",
    "    print(key,'--',value)\n"
   ]
  },
  {
   "cell_type": "code",
   "execution_count": null,
   "id": "2f83ab9e-e60d-4e16-947e-8bc548e88181",
   "metadata": {},
   "outputs": [],
   "source": [
    "#positional parameters\n",
    "def sum (a,b,c=0):\n",
    "    sum=a+b+c\n",
    "    return sum\n",
    "\n",
    "\n",
    "print(sum(3,33,3))\n",
    "print(sum(22,2))"
   ]
  },
  {
   "cell_type": "markdown",
   "id": "ae69bf8a-f9ed-4ce8-9123-e705aebc6146",
   "metadata": {},
   "source": [
    "# variable number of arguments"
   ]
  },
  {
   "cell_type": "code",
   "execution_count": null,
   "id": "b63db00d-b639-4133-ac47-d2238c36f28a",
   "metadata": {},
   "outputs": [],
   "source": [
    "def sum (a,b, *myargs):\n",
    "    sum=a+b\n",
    "    for ele in myargs:\n",
    "        sum+=sum +ele\n",
    "    \n",
    "    return sum\n",
    "\n",
    "\n",
    "print(sum(3,33,3))\n",
    "print(sum(22,2))\n",
    "print(sum(22,2,6,7,8,4,3,))\n",
    "mytuple=(1,3,65,7,4)\n",
    "print(sum(2,4,*mytuple))  # pass a tuple pointer"
   ]
  },
  {
   "cell_type": "code",
   "execution_count": null,
   "id": "03bbc425-d83f-42ac-81be-f1dec7df45e2",
   "metadata": {},
   "outputs": [],
   "source": [
    "#make it more simple\n",
    "def add (a,b, *myargs):\n",
    "    result=a+b + sum(myargs)    \n",
    "    return result\n",
    "\n",
    "print(add(1,2,6,7,8,4,3))"
   ]
  },
  {
   "cell_type": "markdown",
   "id": "08b19bba-c7f2-4be4-a60c-f73b9df034be",
   "metadata": {},
   "source": [
    "* - single star means multiple values as parameters\n",
    "** - key value args-kwargs"
   ]
  },
  {
   "cell_type": "code",
   "execution_count": null,
   "id": "a9afe827-76a6-4f56-bdd1-dccaf5e42b0f",
   "metadata": {},
   "outputs": [],
   "source": [
    "def demo(**kwargs):\n",
    "    for key,value in kwargs.items():\n",
    "        print(key,'--', value)\n",
    "\n",
    "\n",
    "\n",
    "demo(x=1,y=2,z=3)\n",
    "mydict1={'k1':123, 'key2':222}\n",
    "demo(x=1,y=2,z=3, **mydict1)"
   ]
  },
  {
   "cell_type": "code",
   "execution_count": null,
   "id": "7aae2662-9b5f-4b91-ae5a-ae39cdf27822",
   "metadata": {},
   "outputs": [],
   "source": []
  }
 ],
 "metadata": {
  "kernelspec": {
   "display_name": "Python 3 (ipykernel)",
   "language": "python",
   "name": "python3"
  },
  "language_info": {
   "codemirror_mode": {
    "name": "ipython",
    "version": 3
   },
   "file_extension": ".py",
   "mimetype": "text/x-python",
   "name": "python",
   "nbconvert_exporter": "python",
   "pygments_lexer": "ipython3",
   "version": "3.12.1"
  }
 },
 "nbformat": 4,
 "nbformat_minor": 5
}
