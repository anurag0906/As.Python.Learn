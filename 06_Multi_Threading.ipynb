{
 "cells": [
  {
   "cell_type": "markdown",
   "id": "e58e3563-090a-46bb-aa96-114805cbefbc",
   "metadata": {},
   "source": [
    "# Multi Tasking\n",
    "- Thread based\n",
    "- Process based\n",
    "- Thread is also an object\n",
    "# Thread based\n",
    "- all task are in same process\n",
    "\n",
    "# Process based\n",
    "- each task is in running in its own process\n",
    "- each process can run in a separate processor"
   ]
  },
  {
   "cell_type": "markdown",
   "id": "f4115d07-6ad0-4c8c-8186-177d6dc4b886",
   "metadata": {},
   "source": [
    "- Co-operative multi-tasking- thread share CPU with each other\n",
    "- Thread starvation- endless wait, other thread not releasing CPU/Process\n",
    "- Yeild- when thread voluntarly release CPU, so that other thread can get chance to run\n",
    "- in windows every 20 mili sec, thread is intrupted and released. this is example of pre-emptive threading\n",
    "- Threads do not have priority in python, unlike java\n",
    "- After Sleep, thread goes to ready state, not running state\n",
    "- Blocked- when a resource is not available, thread is blocked\n",
    "- a Waiting thread, when notified, goes into ready state"
   ]
  },
  {
   "cell_type": "markdown",
   "id": "ba72270d-bd0e-43df-ba11-82739b5e567c",
   "metadata": {},
   "source": [
    "# Multi-Tasking- Thread based (concurrent execution)"
   ]
  },
  {
   "cell_type": "code",
   "execution_count": null,
   "id": "20be3d81-350b-4dc3-a1af-6dcb766262a8",
   "metadata": {},
   "outputs": [],
   "source": [
    "import threading  # for threading\n",
    "import time  # for timmer\n",
    "import os   # for scheduling"
   ]
  },
  {
   "cell_type": "markdown",
   "id": "cf88ce71-27c1-48f9-9eb5-d6af6f69b447",
   "metadata": {},
   "source": [
    "Current Thread"
   ]
  },
  {
   "cell_type": "code",
   "execution_count": null,
   "id": "f7fb09f4-d905-42f6-962a-6e1dd6cc3b84",
   "metadata": {},
   "outputs": [],
   "source": [
    "print('Program start')\n",
    "mythread= threading.current_thread()\n",
    "print(f'current thread- {mythread.name},  current thread id - {os.getpid()}')\n",
    "print(f'Sleep....')\n",
    "time.sleep(5)\n",
    "print(f'Back to ready state..')\n",
    "print(f'Name change..')\n",
    "mythread.name  ='Anurag'\n",
    "print(f'current thread- {mythread.name},  current thread id - {os.getpid()}')\n",
    "\n",
    "print('Program exit')"
   ]
  },
  {
   "cell_type": "markdown",
   "id": "e1c1357d-dd98-40b5-b26e-5af5ed7d023c",
   "metadata": {},
   "source": [
    "# Create a thread\n",
    "- Create a thread class instance\n",
    "- Write a sub-class of thread and instantiate the sub-class"
   ]
  },
  {
   "cell_type": "code",
   "execution_count": null,
   "id": "c12c581f-3eb0-44a5-a0f7-b19036e846d4",
   "metadata": {},
   "outputs": [],
   "source": [
    "#print thread name 5 times\n",
    "def someMethod():\n",
    "    for i in range(1,6):\n",
    "        print(f' \\n{i} --> Thread name: {threading.current_thread().name} Process ID: {os.getpid()}')\n",
    "        time.sleep(0.5)"
   ]
  },
  {
   "cell_type": "code",
   "execution_count": null,
   "id": "d02a3c18-71a3-4379-b76d-7a5b4ee7f6ab",
   "metadata": {},
   "outputs": [],
   "source": [
    "print('Main thread...start')\n",
    "print(f'Thread name: {threading.current_thread().name} Process ID: {os.getpid()}')\n",
    "\n",
    "t1= threading.Thread(target=someMethod)\n",
    "t1.name='Thread 1'\n",
    "\n",
    "t2= threading.Thread(target=someMethod)  # thread co-operation\n",
    "t2.name='Thread 2'\n",
    "t1.start()\n",
    "t2.start()\n",
    "print( f'T1 is alive:- {t1.is_alive()}')\n",
    "t1.join()   #current main thread goes to wait state, gets notified when t1 is dead\n",
    "print( f'T1 is alive:- {t1.is_alive()}')\n",
    "\n",
    "t2.join()   #current main thread goes to wait state, gets notified when t2 is dead\n",
    "\n",
    "print('Main thread...program end')\n",
    "print(f'Thread name: {threading.current_thread().name} Process ID: {os.getpid()}')\n"
   ]
  },
  {
   "cell_type": "markdown",
   "id": "7e9bba82-296c-48c9-892c-4e7d8ad08102",
   "metadata": {},
   "source": [
    "# create a thread whose target func accepts number, adds and displays sum"
   ]
  },
  {
   "cell_type": "code",
   "execution_count": null,
   "id": "779297d7-4704-4368-8622-cf1c3e4e0101",
   "metadata": {},
   "outputs": [],
   "source": [
    "def addition(*args):\n",
    "    print(f' Thread name:- {threading.current_thread().name}, Result -{sum(args)}')\n",
    "\n",
    "\n",
    "t1= threading.Thread(target=addition, args=(1,2,3))\n",
    "t2= threading.Thread(target=addition, args=(7,8,9), name='my thread')\n",
    "t1.start()\n",
    "t2.start()"
   ]
  },
  {
   "cell_type": "markdown",
   "id": "22d66252-a528-4d3e-8be1-c7c7d0915ff1",
   "metadata": {},
   "source": [
    "# Create Thread by Inheritence\n",
    "- write a sub-class of thread class\n",
    "- Override the default run() method ( code for thread to run)\n",
    "- In case the method is not run then we set the target through t.run attribute\n",
    "- args can be set explicitly through t.args att. and accessed using self.args"
   ]
  },
  {
   "cell_type": "code",
   "execution_count": null,
   "id": "dbfc630e-a1e1-4158-81c2-741bde6ad5f8",
   "metadata": {},
   "outputs": [],
   "source": [
    "class MyThread(threading.Thread):   # inherit from threading class\n",
    "   \n",
    "    def run(self):                  # ovverride default Run method\n",
    "         for i in range(1,6):\n",
    "            print(f' \\n{i} from default run --> Thread name: {threading.current_thread().name} Process ID: {os.getpid()}')\n",
    "            time.sleep(0.5)\n",
    "             \n",
    "    def myrun(self):         #static method of a class     \n",
    "         for i in range(1,6):\n",
    "            print(f' \\n{i} from Custom static method --> Thread name: {threading.current_thread().name} Process ID: {os.getpid()}')\n",
    "            time.sleep(0.5)"
   ]
  },
  {
   "cell_type": "code",
   "execution_count": null,
   "id": "4d9b7c0c-c6b0-420e-bd8c-78feb38bb25e",
   "metadata": {},
   "outputs": [],
   "source": [
    "t1= MyThread()\n",
    "#t1.name='a thread'\n",
    "t1.run = t1.myrun    #run custom method\n",
    "t1.start()"
   ]
  },
  {
   "cell_type": "markdown",
   "id": "2fc4eacb-0b5a-4195-a589-e8f365802920",
   "metadata": {},
   "source": [
    "### create a sub-class of thread named addThread\n",
    "- the target method would sum the args and display name"
   ]
  },
  {
   "cell_type": "code",
   "execution_count": null,
   "id": "0860bfd9-37ca-4080-bed1-d9e83369df2e",
   "metadata": {},
   "outputs": [],
   "source": [
    "class AddThread(threading.Thread):\n",
    "    def add(self,*args):\n",
    "        print(f'Sum :- {sum(self.args)}')\n",
    "        "
   ]
  },
  {
   "cell_type": "code",
   "execution_count": null,
   "id": "e5eb937d-755b-4399-9a0f-e99cffba760a",
   "metadata": {},
   "outputs": [],
   "source": [
    "t1= AddThread()\n",
    "t1.run=t1.add\n",
    "t1.args=(1,2,3)\n",
    "t1.start()"
   ]
  },
  {
   "cell_type": "markdown",
   "id": "f183a526-9535-446b-8532-7736a22bfbbf",
   "metadata": {},
   "source": [
    "# Thread assingment"
   ]
  },
  {
   "cell_type": "markdown",
   "id": "6cfcd487-7330-426b-b2c5-6e3e413a863b",
   "metadata": {},
   "source": [
    "# without lock"
   ]
  },
  {
   "cell_type": "code",
   "execution_count": null,
   "id": "923ceec2-ca06-4b04-87dc-a4f078f01741",
   "metadata": {},
   "outputs": [],
   "source": [
    "class Resources:     #custom class\n",
    "    def __init__(self):   #initializer\n",
    "        self.data=0\n",
    "\n",
    "    def do_something(self):  #class method\n",
    "        self.data +=1\n",
    "        time.sleep(0.01)  # simulate context switching\n",
    "        print(f'Thread- {threading.current_thread().name}, data- {self.data} ')\n"
   ]
  },
  {
   "cell_type": "code",
   "execution_count": null,
   "id": "a18560f4-4042-46a1-a556-e0b7e7b69b70",
   "metadata": {},
   "outputs": [],
   "source": [
    "\n",
    "r= Resources()\n",
    "\n",
    "#approach 1\n",
    "#t1= threading.Thread()\n",
    "#t1.run= r.do_something\n",
    "\n",
    "#approach 2\n",
    "t1 = threading.Thread(target=r.do_something, name='First')\n",
    "\n",
    "t2 = threading.Thread(target=r.do_something, name='second')\n",
    "\n",
    "t1.start()\n",
    "t2.start()"
   ]
  },
  {
   "cell_type": "markdown",
   "id": "043c075a-e9d3-49cb-9487-d6aa1de8bfb7",
   "metadata": {},
   "source": [
    "# with lock"
   ]
  },
  {
   "cell_type": "code",
   "execution_count": null,
   "id": "242a0da3-cc9c-4101-90a5-d6b66c712ec0",
   "metadata": {},
   "outputs": [],
   "source": [
    "class Resources2:     #custom class\n",
    "    def __init__(self):   #initializer\n",
    "        self.data=0\n",
    "        self.lock= threading.Lock()\n",
    "\n",
    "    def do_something(self):  #class method\n",
    "        self.lock.acquire()   \n",
    "        self.data +=1\n",
    "        time.sleep(0.01)  # simulate context switching\n",
    "        print(f'Thread- {threading.current_thread().name}, data- {self.data} ')\n",
    "        self.lock.release()"
   ]
  },
  {
   "cell_type": "code",
   "execution_count": null,
   "id": "6df9f918-07ae-44ee-a19f-6dd4652656bf",
   "metadata": {},
   "outputs": [],
   "source": [
    "\n",
    "r2= Resources2()\n",
    "t3 = threading.Thread(target=r2.do_something, name='First')\n",
    "t4 = threading.Thread(target=r2.do_something, name='second')\n",
    "\n",
    "t3.start()\n",
    "t4.start()"
   ]
  },
  {
   "cell_type": "markdown",
   "id": "92bc0f89-1d77-43b9-b18b-9d5b6be4fa82",
   "metadata": {},
   "source": [
    "# Multi-Tasking- Process based (Paraller Processing)"
   ]
  },
  {
   "cell_type": "code",
   "execution_count": 12,
   "id": "2119cb22-e265-4926-abc2-7f4a96588f14",
   "metadata": {},
   "outputs": [],
   "source": [
    "import os\n",
    "import multiprocessing"
   ]
  },
  {
   "cell_type": "code",
   "execution_count": 13,
   "id": "baeffa82-fa2f-41cf-8f93-ca4e8c02d709",
   "metadata": {},
   "outputs": [
    {
     "name": "stdout",
     "output_type": "stream",
     "text": [
      "Available Processors:  12\n"
     ]
    }
   ],
   "source": [
    "print('Available Processors: ', os.cpu_count())  # available processor"
   ]
  },
  {
   "cell_type": "code",
   "execution_count": 14,
   "id": "8289384a-0b53-48d0-9b1d-9b22981fa2a8",
   "metadata": {},
   "outputs": [],
   "source": [
    "def worker1():\n",
    "    print(f' worker-1 , PID- {os.getpid()}')\n",
    "\n",
    "def worker2():\n",
    "    print(f' worker-2 , PID- {os.getpid()}')"
   ]
  },
  {
   "cell_type": "code",
   "execution_count": 16,
   "id": "7eede04d-8a3b-4c98-9325-321f5649ec0e",
   "metadata": {},
   "outputs": [
    {
     "name": "stdout",
     "output_type": "stream",
     "text": [
      "Main process- ID- 43244\n",
      "Main process- end\n"
     ]
    }
   ],
   "source": [
    "if __name__=='__main__':\n",
    "    p1= multiprocessing.Process(target=worker1)\n",
    "    p2= multiprocessing.Process(target=worker2)\n",
    "\n",
    "    print (f'Main process- ID- {os.getpid()}')\n",
    "    p1.start()\n",
    "    p2.start()\n",
    "    \n",
    "    p1.join()\n",
    "    p2.join()\n",
    "\n",
    "    print (f'Main process- end')"
   ]
  },
  {
   "cell_type": "markdown",
   "id": "b1fcb630-1ed6-4cb9-acc4-de2a1086ba74",
   "metadata": {},
   "source": [
    "# Create 2 Process objects\r",
    " \r\n",
    "\r\n",
    "One will square a given number (as parametr)\r\n",
    "\r\n",
    "Other will cube a given number (as paramter)\r\n",
    "\r\n",
    "Parmeters are passed as args (similar to args concept in Threads)"
   ]
  },
  {
   "cell_type": "code",
   "execution_count": 17,
   "id": "31f6222e-89ea-4e62-847b-6e533423b491",
   "metadata": {},
   "outputs": [],
   "source": [
    "def sqr(lock, num):\n",
    "    with lock:\n",
    "        print(f'square- PID-{os.getpid()}, value- {num*num}')\n",
    "\n",
    "def cube(lock, num):\n",
    "    with lock:\n",
    "        print(f'Cube- PID-{os.getpid()}, value- {num*num* num}')\n",
    "        "
   ]
  },
  {
   "cell_type": "code",
   "execution_count": 18,
   "id": "5735d499-e70f-4ebb-9fae-0d234891d640",
   "metadata": {},
   "outputs": [
    {
     "ename": "AttributeError",
     "evalue": "'Process' object has no attribute 'star'",
     "output_type": "error",
     "traceback": [
      "\u001b[1;31m---------------------------------------------------------------------------\u001b[0m",
      "\u001b[1;31mAttributeError\u001b[0m                            Traceback (most recent call last)",
      "Cell \u001b[1;32mIn[18], line 6\u001b[0m\n\u001b[0;32m      3\u001b[0m p1\u001b[38;5;241m=\u001b[39m multiprocessing\u001b[38;5;241m.\u001b[39mProcess(target\u001b[38;5;241m=\u001b[39msqr, args\u001b[38;5;241m=\u001b[39m(mylock,\u001b[38;5;241m3\u001b[39m))\n\u001b[0;32m      4\u001b[0m p2\u001b[38;5;241m=\u001b[39m multiprocessing\u001b[38;5;241m.\u001b[39mProcess(target\u001b[38;5;241m=\u001b[39mcube, args\u001b[38;5;241m=\u001b[39m(mylock,\u001b[38;5;241m3\u001b[39m))\n\u001b[1;32m----> 6\u001b[0m \u001b[43mp1\u001b[49m\u001b[38;5;241;43m.\u001b[39;49m\u001b[43mstar\u001b[49m()\n\u001b[0;32m      7\u001b[0m p2\u001b[38;5;241m.\u001b[39mstart()\n",
      "\u001b[1;31mAttributeError\u001b[0m: 'Process' object has no attribute 'star'"
     ]
    }
   ],
   "source": [
    "mylock= multiprocessing.Lock()\n",
    "\n",
    "p1= multiprocessing.Process(target=sqr, args=(mylock,3))\n",
    "p2= multiprocessing.Process(target=cube, args=(mylock,3))\n",
    "\n",
    "p1.star()\n",
    "p2.start()"
   ]
  },
  {
   "cell_type": "code",
   "execution_count": null,
   "id": "e35e4938-b0d4-412c-9931-b450bde04a1b",
   "metadata": {},
   "outputs": [],
   "source": []
  }
 ],
 "metadata": {
  "kernelspec": {
   "display_name": "Python 3 (ipykernel)",
   "language": "python",
   "name": "python3"
  },
  "language_info": {
   "codemirror_mode": {
    "name": "ipython",
    "version": 3
   },
   "file_extension": ".py",
   "mimetype": "text/x-python",
   "name": "python",
   "nbconvert_exporter": "python",
   "pygments_lexer": "ipython3",
   "version": "3.12.1"
  }
 },
 "nbformat": 4,
 "nbformat_minor": 5
}
